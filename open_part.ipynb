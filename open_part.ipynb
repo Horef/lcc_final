{
 "cells": [
  {
   "cell_type": "code",
   "execution_count": null,
   "metadata": {},
   "outputs": [],
   "source": [
    "import pickle\n",
    "import sys\n",
    "import os\n",
    "import numpy as np\n",
    "import pandas as pd\n",
    "import glob"
   ]
  },
  {
   "cell_type": "code",
   "execution_count": 2,
   "metadata": {},
   "outputs": [
    {
     "name": "stderr",
     "output_type": "stream",
     "text": [
      "/opt/homebrew/Caskroom/miniforge/base/envs/lcc/lib/python3.12/site-packages/tqdm/auto.py:21: TqdmWarning: IProgress not found. Please update jupyter and ipywidgets. See https://ipywidgets.readthedocs.io/en/stable/user_install.html\n",
      "  from .autonotebook import tqdm as notebook_tqdm\n"
     ]
    }
   ],
   "source": [
    "from tqdm.auto import tqdm\n",
    "import sklearn.linear_model\n",
    "from scipy.stats import pearsonr\n",
    "from joblib import Parallel, delayed"
   ]
  },
  {
   "cell_type": "code",
   "execution_count": 3,
   "metadata": {},
   "outputs": [],
   "source": [
    "import random\n",
    "\n",
    "random.seed(3)  # For reproducibility"
   ]
  },
  {
   "cell_type": "markdown",
   "metadata": {
    "id": "cFrD0CUr_sh3"
   },
   "source": [
    "## Load the data"
   ]
  },
  {
   "cell_type": "code",
   "execution_count": 4,
   "metadata": {},
   "outputs": [],
   "source": [
    "with open('data/EXP2.pkl', 'rb') as f: \n",
    "\texp2_data = pickle.load(f)\n",
    "with open('data/EXP3.pkl', 'rb') as f: \n",
    "    exp3_data = pickle.load(f)"
   ]
  },
  {
   "cell_type": "code",
   "execution_count": 5,
   "metadata": {},
   "outputs": [],
   "source": [
    "voxel_neighbors = exp2_data['meta'][0][0][7]"
   ]
  },
  {
   "cell_type": "code",
   "execution_count": 6,
   "metadata": {
    "ExecuteTime": {
     "end_time": "2025-05-09T11:56:19.741676Z",
     "start_time": "2025-05-09T11:56:06.748038Z"
    },
    "id": "Liosd9lWBdQI"
   },
   "outputs": [],
   "source": [
    "#Let's load the functions from learn_decoder.py\n",
    "from learn_decoder import read_matrix\n",
    "\n",
    "# data for experiment 1\n",
    "exp1_fmri = read_matrix(\"data/neuralData_for_EXP1.csv\", sep=\",\", header=True, index_col=True)\n",
    "exp1_vecs = read_matrix(\"data/vectors_180concepts.GV42B300.txt\", sep=\" \")\n",
    "exp1_conc = np.genfromtxt('data/stimuli_180concepts.txt', dtype=np.dtype('U'))  #The names of the 180 concepts\n",
    "# data for experiment 2\n",
    "exp2_fmri = exp2_data['Fmridata']\n",
    "exp2_vecs = read_matrix(\"data/vectors_384sentences.GV42B300.average.txt\", sep=\" \")\n",
    "exp2_sent = np.genfromtxt('data/stimuli_384sentences.txt', delimiter='\\t', dtype=np.dtype('U'))\n",
    "# data for experiment 3\n",
    "exp3_fmri = exp3_data['Fmridata']\n",
    "exp3_vecs = read_matrix(\"data/vectors_243sentences.GV42B300.average.txt\", sep=\" \")\n",
    "exp3_sent = np.genfromtxt('data/stimuli_243sentences.txt', delimiter='\\t', dtype=np.dtype('U'))\n"
   ]
  },
  {
   "cell_type": "markdown",
   "metadata": {},
   "source": [
    "## For Sentence Reconstruction"
   ]
  },
  {
   "cell_type": "code",
   "execution_count": 7,
   "metadata": {},
   "outputs": [],
   "source": [
    "import torch\n",
    "import numpy as np\n",
    "from transformers import AutoTokenizer, AutoModelForCausalLM"
   ]
  },
  {
   "cell_type": "code",
   "execution_count": 65,
   "metadata": {},
   "outputs": [],
   "source": [
    "# loading the glove vectors from the data/glove.42B.300d.txt\n",
    "glove_embs = {}\n",
    "# if the embedding are already saved, we can load them\n",
    "if os.path.exists('data/glove_embs.pkl'):\n",
    "    with open('data/glove_embs.pkl', 'rb') as f:\n",
    "        glove_embs = pickle.load(f)\n",
    "else:\n",
    "    # otherwise, we load them from the file\n",
    "    with open('data/glove.42B.300d.txt', 'r', encoding='utf-8') as f:\n",
    "        for line in f:\n",
    "            split_line = line.split()\n",
    "            word = split_line[0]\n",
    "            vector = np.array([float(x) for x in split_line[1:]])\n",
    "            glove_embs[word] = vector"
   ]
  },
  {
   "cell_type": "code",
   "execution_count": 15,
   "metadata": {},
   "outputs": [],
   "source": [
    "# saving the glove embeddings\n",
    "with open('data/glove_embs.pkl', 'wb') as f:\n",
    "    pickle.dump(glove_embs, f)"
   ]
  },
  {
   "cell_type": "code",
   "execution_count": 9,
   "metadata": {},
   "outputs": [],
   "source": [
    "def get_glove_sequence_embedding(text_sequence, tokenizer, model):\n",
    "    \"\"\"\n",
    "    Calculates the semantic embedding for a sequence of text by averaging the GloVe word vectors.\n",
    "    \"\"\"\n",
    "    words = text_sequence.split()\n",
    "    word_vectors = [glove_embs[word] for word in words if word in glove_embs]\n",
    "    if not word_vectors:\n",
    "        # If no valid word vectors are found, return a zero vector.\n",
    "        return np.zeros(300)\n",
    "    # Average the word vectors to get the sequence embedding.\n",
    "    sequence_embedding = np.mean(word_vectors, axis=0)\n",
    "    return sequence_embedding"
   ]
  },
  {
   "cell_type": "code",
   "execution_count": 10,
   "metadata": {},
   "outputs": [],
   "source": [
    "def get_llm_sequence_embedding(text_sequence, tokenizer, model):\n",
    "    \"\"\"\n",
    "    Calculates the semantic embedding for a sequence of text averaging the hidden states of a language model.\n",
    "    \"\"\"\n",
    "    inputs = tokenizer(text_sequence, return_tensors='pt', padding=True)\n",
    "    with torch.no_grad():\n",
    "        # Get the hidden states from the model output.\n",
    "        outputs = model(**inputs, output_hidden_states=True)\n",
    "        # We take the hidden states from the last layer.\n",
    "        hidden_states = outputs.hidden_states[-1]\n",
    "        # Average the token embeddings to get a single vector for the sequence.\n",
    "        sequence_embedding = torch.mean(hidden_states, dim=1).squeeze().numpy()\n",
    "    return sequence_embedding"
   ]
  },
  {
   "cell_type": "code",
   "execution_count": 11,
   "metadata": {},
   "outputs": [],
   "source": [
    "def setup_model_and_tokenizer(model_name='mistralai/Mistral-7B-v0.3'):\n",
    "    \"\"\"\n",
    "    Loads a pre-trained language model and tokenizer using AutoClass.\n",
    "\n",
    "    AutoTokenizer and AutoModelForCausalLM are \"smart\" loaders that automatically\n",
    "    infer the correct architecture from the model name and download the\n",
    "    appropriate classes, weights, and configuration. This makes the code\n",
    "    flexible enough to work with Mistral, Llama, GPT-2, Pythia, etc.\n",
    "    \"\"\"\n",
    "    print(f\"Loading {model_name} model and tokenizer...\")\n",
    "    # You can now use any compatible model from the Hugging Face Hub.\n",
    "    \n",
    "    # The AutoTokenizer will load the correct tokenizer for the Mistral model.\n",
    "    tokenizer = AutoTokenizer.from_pretrained(model_name)\n",
    "    \n",
    "    # It's good practice to set a padding token if the model doesn't have one.\n",
    "    # The end-of-sentence token is often used for this purpose.\n",
    "    if tokenizer.pad_token is None:\n",
    "        tokenizer.pad_token = tokenizer.eos_token\n",
    "        \n",
    "    # The AutoModelForCausalLM will load the correct model architecture.\n",
    "    model = AutoModelForCausalLM.from_pretrained(\n",
    "        model_name,\n",
    "        # Using torch_dtype=torch.float16 can help save memory on GPUs.\n",
    "        # Remove this line if you are running on a CPU or encounter issues.\n",
    "        # torch_dtype=torch.float16,\n",
    "        # This will try to spread the model across available GPUs/CPU memory.\n",
    "        # device_map='auto'\n",
    "    )\n",
    "    \n",
    "    print(\"Model and tokenizer loaded successfully.\")\n",
    "    return model, tokenizer"
   ]
  },
  {
   "cell_type": "code",
   "execution_count": 12,
   "metadata": {},
   "outputs": [
    {
     "name": "stdout",
     "output_type": "stream",
     "text": [
      "Loading EleutherAI/pythia-1.4b-deduped model and tokenizer...\n",
      "Model and tokenizer loaded successfully.\n"
     ]
    }
   ],
   "source": [
    "# Setting up the model and tokenizer\n",
    "lm_model, lm_tokenizer = setup_model_and_tokenizer('EleutherAI/pythia-1.4b-deduped')"
   ]
  },
  {
   "cell_type": "code",
   "execution_count": null,
   "metadata": {},
   "outputs": [],
   "source": [
    "# for the cleaning purposes\n",
    "# del lm_model, lm_tokenizer"
   ]
  },
  {
   "cell_type": "markdown",
   "metadata": {},
   "source": [
    "## Encoding the data using the custom word and sentence encoders"
   ]
  },
  {
   "cell_type": "code",
   "execution_count": 15,
   "metadata": {},
   "outputs": [],
   "source": [
    "exp1_vecs_llm = np.array([get_llm_sequence_embedding(sent, lm_tokenizer, lm_model) for sent in exp1_conc])\n",
    "exp2_vecs_llm = np.array([get_llm_sequence_embedding(sent, lm_tokenizer, lm_model) for sent in exp2_sent])\n",
    "exp3_vecs_llm = np.array([get_llm_sequence_embedding(sent, lm_tokenizer, lm_model) for sent in exp3_sent])"
   ]
  },
  {
   "cell_type": "code",
   "execution_count": 16,
   "metadata": {},
   "outputs": [],
   "source": [
    "exp23_vecs = np.concatenate((exp2_vecs, exp3_vecs), axis=0)\n",
    "exp23_vecs_llm = np.concatenate((exp2_vecs_llm, exp3_vecs_llm), axis=0)\n",
    "exp23_sent = np.concatenate((exp2_sent, exp3_sent), axis=0)"
   ]
  },
  {
   "cell_type": "markdown",
   "metadata": {},
   "source": [
    "## Selecting the most informative voxels"
   ]
  },
  {
   "cell_type": "code",
   "execution_count": 13,
   "metadata": {},
   "outputs": [],
   "source": [
    "# --- Helper function for preparing data for a single voxel ---\n",
    "def get_voxel_specific_data(data, v_idx, voxel_neighbors):\n",
    "    \"\"\"\n",
    "    Extracts data for a central voxel and its 3D neighbors.\n",
    "    \n",
    "    @param data: (n_samples, V_total) array\n",
    "    @param v_idx: index of the central voxel\n",
    "    @param voxel_neighbors: matrix of voxel neighbors, where each row corresponds to a voxel's neighbors.\n",
    "    \n",
    "    Returns: (n_samples, K) array, where K is 1 (center) + number of actual neighbors found.\n",
    "             The central voxel's data is the first column.\n",
    "    \"\"\"\n",
    "    center_voxel_data = data[:, v_idx]\n",
    "    \n",
    "    # Collect neighbors as in the original logic\n",
    "    neighbor_columns = []\n",
    "    neighbors_chosen = set() # Start with the center voxel index to avoid duplicates\n",
    "    neighbors_chosen.add(v_idx) # Ensure the center voxel is included\n",
    "    for n_loop_idx in voxel_neighbors[v_idx]:\n",
    "        if n_loop_idx < 0 or n_loop_idx >= data.shape[1]:\n",
    "            continue\n",
    "        if n_loop_idx not in neighbors_chosen:\n",
    "            neighbors_chosen.add(n_loop_idx)\n",
    "            neighbor_columns.append(data[:, n_loop_idx])\n",
    "    \n",
    "    if not neighbor_columns:\n",
    "        return center_voxel_data[:, np.newaxis] # Return as (n_samples, 1)\n",
    "    else:\n",
    "        return np.column_stack([center_voxel_data] + neighbor_columns)\n",
    "\n",
    "# --- Helper function for processing one voxel within a fold (for parallel execution) ---\n",
    "def process_voxel_for_fold(v_idx, train_data_fold, test_data_fold, \n",
    "                           train_vectors_fold, true_test_vectors_fold,\n",
    "                           voxel_neighbors, ridge_alpha):\n",
    "    \"\"\"\n",
    "    Processes a single voxel: fits ridge, predicts, correlates.\n",
    "    Returns the maximum absolute correlation for this voxel in this fold.\n",
    "    \"\"\"\n",
    "    # 1. Prepare feature matrices for this voxel\n",
    "    # X_train_v will be (n_train_samples, n_features_for_voxel_v)\n",
    "    # n_features_for_voxel_v can vary near edges if window is truncated.\n",
    "    X_train_v = get_voxel_specific_data(train_data_fold, v_idx, voxel_neighbors)\n",
    "    X_test_v = get_voxel_specific_data(test_data_fold, v_idx, voxel_neighbors)\n",
    "\n",
    "    # Basic check, though get_voxel_specific_data should always return at least one column\n",
    "    if X_train_v.shape[1] == 0 or X_test_v.shape[1] == 0 or X_train_v.shape[0] == 0 or X_test_v.shape[0] == 0:\n",
    "        return 0.0\n",
    "\n",
    "    # 2. Fit Ridge Regression model\n",
    "    ridge = sklearn.linear_model.Ridge(alpha=ridge_alpha, fit_intercept=True)\n",
    "    try:\n",
    "        ridge.fit(X_train_v, train_vectors_fold)\n",
    "    except ValueError: # Can happen if X_train_v is problematic (e.g. all zeros, too few samples/features)\n",
    "        return 0.0\n",
    "\n",
    "    # 3. Predict semantic vectors for the test data\n",
    "    predicted_vectors = ridge.predict(X_test_v) # Shape: (n_test_samples, n_semantic_dimensions)\n",
    "\n",
    "    # 4. Vectorized Pearson Correlation\n",
    "    # P = predicted_vectors, T = true_test_vectors_fold\n",
    "    # Both are (n_samples_test, n_semantic_dims)\n",
    "    \n",
    "    if predicted_vectors.shape[0] == 0: # No test samples\n",
    "        return 0.0\n",
    "\n",
    "    P_demeaned = predicted_vectors - np.mean(predicted_vectors, axis=0, keepdims=True)\n",
    "    T_demeaned = true_test_vectors_fold - np.mean(true_test_vectors_fold, axis=0, keepdims=True)\n",
    "\n",
    "    numerator = np.sum(P_demeaned * T_demeaned, axis=0)\n",
    "    \n",
    "    ss_P = np.sum(P_demeaned**2, axis=0)\n",
    "    ss_T = np.sum(T_demeaned**2, axis=0)\n",
    "    \n",
    "    denominator = np.sqrt(ss_P * ss_T)\n",
    "    \n",
    "    correlations_all_dims = np.zeros_like(denominator) # Initialize with zeros\n",
    "    \n",
    "    # Avoid division by zero\n",
    "    valid_mask = denominator > 1e-12 # Check if denominator is meaningfully non-zero\n",
    "    \n",
    "    correlations_all_dims[valid_mask] = numerator[valid_mask] / denominator[valid_mask]\n",
    "    \n",
    "    # Handle any potential NaNs that might arise from input NaNs or perfect zero variance in original data\n",
    "    correlations_all_dims = np.nan_to_num(correlations_all_dims, nan=0.0, posinf=0.0, neginf=0.0)\n",
    "\n",
    "    if correlations_all_dims.size == 0:\n",
    "        return 0.0\n",
    "        \n",
    "    return np.max(np.abs(correlations_all_dims))\n",
    "\n",
    "\n",
    "# --- Main Function ---\n",
    "def voxel_representativeness_optimized(voxels, vectors, voxel_neighbors, n_jobs: int = -1) -> np.ndarray:\n",
    "    \"\"\" Given a CxV matrix of C concepts and V voxel activations,\n",
    "    return a V-dimensional vector of voxel representativeness.\n",
    "    Optimized for speed using joblib parallelism and vectorized correlation.\n",
    "    \n",
    "    @param data: (S, V) numpy array of S samples (e.g., trials/timepoints) and V voxel activations.\n",
    "    @param vectors: (S, C) numpy array of S samples and C semantic features/dimensions.\n",
    "    @param voxel_neighbors: A matrix where each row corresponds to a voxel and contains indices of its neighbors.\n",
    "    @param n_jobs: Number of parallel jobs for joblib. -1 means use all available cores.\n",
    "    @return: A V-dimensional vector of voxel representativeness scores.\n",
    "    \"\"\"\n",
    "\n",
    "    np.random.seed(3) # For reproducible fold splitting\n",
    "\n",
    "    n_samples = voxels.shape[0]\n",
    "    total_n_voxels = voxels.shape[1] # V\n",
    "    \n",
    "    ridge_alpha = 1.0 # As specified: regularization parameter set to 1\n",
    "\n",
    "    # Splitting the data into 18 folds\n",
    "    n_folds = 18\n",
    "    indices = np.arange(n_samples)\n",
    "    np.random.shuffle(indices)\n",
    "    folds = np.array_split(indices, n_folds)\n",
    "\n",
    "    # Initialize a vector to hold the maximum correlation for each voxel across all folds\n",
    "    max_correlation_across_folds = np.zeros(total_n_voxels)\n",
    "\n",
    "    for fold_idx, test_fold_indices in enumerate(tqdm(folds, desc=\"Processing Folds\", unit=\"fold\")):\n",
    "        train_indices = np.setdiff1d(indices, test_fold_indices)\n",
    "\n",
    "        # Create training and test sets for this fold\n",
    "        # Data: (samples, voxels)\n",
    "        # Vectors: (samples, semantic_dims)\n",
    "        current_train_data = voxels[train_indices, :]\n",
    "        current_test_data = voxels[test_fold_indices, :]\n",
    "        current_train_vectors = vectors[train_indices, :]\n",
    "        current_true_test_vectors = vectors[test_fold_indices, :]\n",
    "\n",
    "        if current_train_data.shape[0] == 0 or current_test_data.shape[0] == 0:\n",
    "            print(f\"Warning: Fold {fold_idx+1} has no train or test samples, skipping.\")\n",
    "            continue\n",
    "            \n",
    "        # Parallel processing of voxels for the current fold\n",
    "        # tqdm can be used with joblib, but requires a bit more setup for nested progress bars.\n",
    "        # For simplicity here, tqdm is on the outer (fold) loop.\n",
    "        # The `desc` in the inner loop of the original code will be lost, \n",
    "        # but joblib will utilize cores effectively.\n",
    "        \n",
    "        # print(f\"Fold {fold_idx+1}/{n_folds}: Processing {total_n_voxels} voxels with {n_jobs} workers...\")\n",
    "        \n",
    "        voxel_correlations_for_this_fold = Parallel(n_jobs=n_jobs)(\n",
    "            delayed(process_voxel_for_fold)(\n",
    "                v_idx, # Index of the voxel to process\n",
    "                current_train_data,\n",
    "                current_test_data,\n",
    "                current_train_vectors,\n",
    "                current_true_test_vectors,\n",
    "                voxel_neighbors,\n",
    "                ridge_alpha\n",
    "            ) for v_idx in range(total_n_voxels) # Iterate over all voxel indices\n",
    "        )\n",
    "        \n",
    "        # Update the max_correlation_across_folds\n",
    "        # voxel_correlations_for_this_fold is a list of max correlations, one for each voxel in this fold\n",
    "        for v_idx, fold_corr in enumerate(voxel_correlations_for_this_fold):\n",
    "            max_correlation_across_folds[v_idx] = max(max_correlation_across_folds[v_idx], fold_corr)\n",
    "\n",
    "    return max_correlation_across_folds"
   ]
  },
  {
   "cell_type": "code",
   "execution_count": 17,
   "metadata": {},
   "outputs": [],
   "source": [
    "# We want to lower the dimensionality of the data to 15000 most informative features\n",
    "# Because it is unclear which features are most informative, we will use the 15000 features with the highest\n",
    "# overall average values in absolute value.\n",
    "def get_top_features(voxels, vectors, n_features=None, metric='mean', **kwargs):\n",
    "    \"\"\"\n",
    "    Select the top n_features based on the mean absolute value of each feature across all samples.\n",
    "    :param data: The input data matrix (samples x features).\n",
    "    :param n_features: The number of top features to select.\n",
    "    :param metric: The metric to use for feature selection \n",
    "    ('mean' or 'var' for variance or \n",
    "    'corr' for max correlation, \n",
    "    's_corr' for simple version).\n",
    "    :return: The reduced data matrix and the indices of the selected features.\n",
    "    \"\"\"\n",
    "    if n_features is None:\n",
    "        return voxels, np.arange(voxels.shape[1])\n",
    "\n",
    "    if metric not in ['mean', 'var', 'corr']:\n",
    "        raise ValueError(\"Metric must be one of the allowed ones.\")\n",
    "    elif metric == 'corr':\n",
    "        representativeness = voxel_representativeness_optimized(voxels, vectors, voxel_neighbors, n_jobs=6)\n",
    "    elif metric == 'var':\n",
    "        representativeness = np.var(voxels, axis=0)\n",
    "    else:\n",
    "        representativeness = np.mean(np.abs(voxels), axis=0)\n",
    "    top_indices = np.argsort(representativeness)[-n_features:]\n",
    "    # save the representativeness variable to avoid recomputing it\n",
    "    np.save('data/representativeness.npy', representativeness)\n",
    "\n",
    "    return voxels[:, top_indices], top_indices"
   ]
  },
  {
   "cell_type": "code",
   "execution_count": 14,
   "metadata": {},
   "outputs": [],
   "source": [
    "# Setting the environment variable to avoid the warning about tokenizers\n",
    "# This is a common warning when using Hugging Face tokenizers in parallel.\n",
    "os.environ['TOKENIZERS_PARALLELISM'] = 'false'"
   ]
  },
  {
   "cell_type": "code",
   "execution_count": 21,
   "metadata": {},
   "outputs": [
    {
     "name": "stderr",
     "output_type": "stream",
     "text": [
      "Processing Folds: 100%|██████████| 18/18 [1:33:12<00:00, 310.67s/fold]\n"
     ]
    }
   ],
   "source": [
    "exp1_fmri_reduced, top_indices = get_top_features(exp1_fmri, exp1_vecs_llm, n_features=5000, metric='corr')\n",
    "# Save the reduced data and the top indices\n",
    "np.save('data/data_reduced.npy', exp1_fmri_reduced)\n",
    "np.save('data/top_indices.npy', top_indices)"
   ]
  },
  {
   "cell_type": "code",
   "execution_count": 18,
   "metadata": {},
   "outputs": [],
   "source": [
    "# in case we need to change the number of features later\n",
    "representativeness = np.load('data/representativeness.npy')\n",
    "top_indices = np.argsort(representativeness)[-5000:]\n",
    "del representativeness  # Free memory if not needed anymore\n",
    "# to take all\n",
    "# top_indices = np.argsort(representativeness)"
   ]
  },
  {
   "cell_type": "code",
   "execution_count": null,
   "metadata": {},
   "outputs": [
    {
     "name": "stderr",
     "output_type": "stream",
     "text": [
      "Processing Folds: 100%|██████████| 18/18 [46:45<00:00, 155.85s/fold]"
     ]
    },
    {
     "name": "stdout",
     "output_type": "stream",
     "text": [
      "Intersection between top indices of GloVe and LLM: 141 out of 5000\n",
      "Percentage of intersection: 2.82%\n"
     ]
    },
    {
     "name": "stderr",
     "output_type": "stream",
     "text": [
      "\n"
     ]
    }
   ],
   "source": [
    "_, top_indices_glove = get_top_features(exp1_fmri, exp1_vecs, n_features=5000, metric='corr')\n",
    "# saving the top indices for GloVe\n",
    "np.save('data/top_indices_glove.npy', top_indices_glove)"
   ]
  },
  {
   "cell_type": "code",
   "execution_count": 19,
   "metadata": {},
   "outputs": [],
   "source": [
    "# if we want to load the top indices for GloVe\n",
    "if os.path.exists('data/top_indices_glove.npy'):\n",
    "    top_indices_glove = np.load('data/top_indices_glove.npy')"
   ]
  },
  {
   "cell_type": "code",
   "execution_count": 24,
   "metadata": {},
   "outputs": [
    {
     "name": "stdout",
     "output_type": "stream",
     "text": [
      "Intersection between top indices of GloVe and LLM: 141 out of 5000\n",
      "Percentage of intersection: 2.82%\n"
     ]
    }
   ],
   "source": [
    "# Printing how much intersection is there between the top indices of glove and llm (simple intersection)\n",
    "intersection = np.intersect1d(top_indices, top_indices_glove)\n",
    "print(f\"Intersection between top indices of GloVe and LLM: {len(intersection)} out of {len(top_indices)}\")\n",
    "print(f\"Percentage of intersection: {len(intersection) / len(top_indices) * 100:.2f}%\")"
   ]
  },
  {
   "cell_type": "code",
   "execution_count": 43,
   "metadata": {},
   "outputs": [
    {
     "name": "stdout",
     "output_type": "stream",
     "text": [
      "Total unique voxels in LLM regions: 91145\n",
      "Total unique voxels in GloVe regions: 91189\n",
      "Intersection of all covered voxels (complex intersection): 44935 voxels\n",
      "Original LLM top indices that are part of the overlapping region: 2464 out of 5000\n",
      "Percentage of complex intersection relative to LLM indices: 49.28%\n"
     ]
    }
   ],
   "source": [
    "# 1. Create a single set of all indices covered by the LLM top indices and their neighbors.\n",
    "# We use a set for efficiency, as it automatically handles duplicates.\n",
    "llm_covered_voxels = set()\n",
    "for index in top_indices:\n",
    "    # Add the main voxel index\n",
    "    llm_covered_voxels.add(index)\n",
    "    # Add all valid neighbor indices (assuming -1 or another value indicates no neighbor)\n",
    "    for neighbor in voxel_neighbors[index]:\n",
    "        if neighbor > 0: # Ensure the neighbor index is valid\n",
    "            llm_covered_voxels.add(neighbor)\n",
    "\n",
    "# 2. Create a similar set for the GloVe top indices.\n",
    "glove_covered_voxels = set()\n",
    "for index in top_indices_glove:\n",
    "    glove_covered_voxels.add(index)\n",
    "    for neighbor in voxel_neighbors[index]:\n",
    "        if neighbor > 0:\n",
    "            glove_covered_voxels.add(neighbor)\n",
    "\n",
    "# 3. Find the intersection of these two comprehensive sets.\n",
    "complex_intersection = llm_covered_voxels.intersection(glove_covered_voxels)\n",
    "\n",
    "# 4. To find which of the original `top_indices` are part of this overlapping region:\n",
    "final_intersecting_indices = [idx for idx in top_indices if idx in complex_intersection]\n",
    "\n",
    "print(f\"Total unique voxels in LLM regions: {len(llm_covered_voxels)}\")\n",
    "print(f\"Total unique voxels in GloVe regions: {len(glove_covered_voxels)}\")\n",
    "print(f\"Intersection of all covered voxels (complex intersection): {len(complex_intersection)} voxels\")\n",
    "print(f\"Original LLM top indices that are part of the overlapping region: {len(final_intersecting_indices)} out of {len(top_indices)}\")\n",
    "print(f\"Percentage of complex intersection relative to LLM indices: {len(final_intersecting_indices) / len(top_indices) * 100:.2f}%\")"
   ]
  },
  {
   "cell_type": "code",
   "execution_count": 20,
   "metadata": {},
   "outputs": [],
   "source": [
    "exp1_fmri_reduced = exp1_fmri[:, top_indices]\n",
    "exp2_fmri_reduced = exp2_fmri[:, top_indices]\n",
    "exp3_fmri_reduced = exp3_fmri[:, top_indices]\n",
    "exp23_fmri_reduced = np.concatenate((exp2_fmri_reduced, exp3_fmri_reduced), axis=0)"
   ]
  },
  {
   "cell_type": "code",
   "execution_count": 21,
   "metadata": {},
   "outputs": [],
   "source": [
    "exp1_fmri_glove_reduced = exp1_fmri[:, top_indices_glove]\n",
    "exp2_fmri_glove_reduced = exp2_fmri[:, top_indices_glove]\n",
    "exp3_fmri_glove_reduced = exp3_fmri[:, top_indices_glove]\n",
    "exp23_fmri_glove_reduced = np.concatenate((exp2_fmri_glove_reduced, exp3_fmri_glove_reduced), axis=0)"
   ]
  },
  {
   "cell_type": "code",
   "execution_count": 22,
   "metadata": {
    "ExecuteTime": {
     "end_time": "2025-05-09T11:56:22.736113Z",
     "start_time": "2025-05-09T11:56:22.733930Z"
    },
    "colab": {
     "base_uri": "https://localhost:8080/"
    },
    "id": "CRI_G2E3jWIb",
    "outputId": "43547b69-eb1a-4f97-977d-a639eb22aa08"
   },
   "outputs": [
    {
     "name": "stdout",
     "output_type": "stream",
     "text": [
      "Experiment 1 data shapes:\n",
      "(180, 185866)\n",
      "(180, 5000)\n",
      "(180, 300)\n",
      "(180,)\n",
      "Experiment 2 data shapes:\n",
      "(384, 185866)\n",
      "(384, 5000)\n",
      "(384, 300)\n",
      "(384,)\n",
      "Experiment 3 data shapes:\n",
      "(243, 185866)\n",
      "(243, 5000)\n",
      "(243, 300)\n",
      "(243,)\n"
     ]
    }
   ],
   "source": [
    "print('Experiment 1 data shapes:')\n",
    "print(exp1_fmri.shape)\n",
    "print(exp1_fmri_reduced.shape)\n",
    "print(exp1_vecs.shape)\n",
    "print(exp1_conc.shape)\n",
    "\n",
    "print('Experiment 2 data shapes:')\n",
    "print(exp2_fmri.shape)\n",
    "print(exp2_fmri_reduced.shape)\n",
    "print(exp2_vecs.shape)\n",
    "print(exp2_sent.shape)\n",
    "\n",
    "print('Experiment 3 data shapes:')\n",
    "print(exp3_fmri.shape)\n",
    "print(exp3_fmri_reduced.shape)\n",
    "print(exp3_vecs.shape)\n",
    "print(exp3_sent.shape)"
   ]
  },
  {
   "cell_type": "code",
   "execution_count": 23,
   "metadata": {},
   "outputs": [],
   "source": [
    "del exp1_fmri, exp2_fmri, exp3_fmri"
   ]
  },
  {
   "cell_type": "markdown",
   "metadata": {},
   "source": [
    "# Open Section"
   ]
  },
  {
   "cell_type": "markdown",
   "metadata": {},
   "source": [
    "## Testing different Encoders"
   ]
  },
  {
   "cell_type": "code",
   "execution_count": 24,
   "metadata": {},
   "outputs": [],
   "source": [
    "from encoder import Encoder, RidgeEncoder, FCEncoder, FC2Encoder, VAEEncoder, ResidualEncoder, AttentionEncoder, ImprovedAttentionEncoder, init_and_train_encoder, test_encoder"
   ]
  },
  {
   "cell_type": "code",
   "execution_count": 25,
   "metadata": {},
   "outputs": [],
   "source": [
    "def test_different_encoders(encoder_list, voxels, vectors, n_folds=6, dist='', encoder_kwargs:list=[None]):\n",
    "    \"\"\"\n",
    "    Test different encoders on the given voxels and vectors.\n",
    "    \n",
    "    :param encoder_list: List of encoder classes to test.\n",
    "    :param voxels: The voxel data (samples x features).\n",
    "    :param vectors: The semantic vectors (samples x dimensions).\n",
    "    :param n_folds: Number of folds for cross-validation.\n",
    "    :param dist: A string to distinguish between different runs.\n",
    "    :param encoder_kwargs: Additional keyword arguments for the encoders.\n",
    "    :return: A tuple of lists containing entity accuracies and fold accuracies for each encoder.\n",
    "    \"\"\"\n",
    "    entity_accuracies_list = []\n",
    "    fold_accuracies_list = []\n",
    "\n",
    "    if encoder_kwargs == [None]:\n",
    "        encoder_kwargs = [None] * len(encoder_list)\n",
    "\n",
    "    for encoder, kwargs in zip(encoder_list, encoder_kwargs):\n",
    "        output_dir = 'outputs'\n",
    "        if not os.path.exists(output_dir):\n",
    "            os.makedirs(output_dir)\n",
    "        # checking if the results are already computed\n",
    "        if os.path.exists(os.path.join(output_dir, f'{encoder.__name__}_entity_accuracies_{dist}.pkl')) and \\\n",
    "        os.path.exists(os.path.join(output_dir, f'{encoder.__name__}_fold_accuracies_{dist}.pkl')):\n",
    "            with open(os.path.join(output_dir, f'{encoder.__name__}_entity_accuracies_{dist}.pkl'), 'rb') as f:\n",
    "                entity_accuracies = pickle.load(f)\n",
    "            with open(os.path.join(output_dir, f'{encoder.__name__}_fold_accuracies_{dist}.pkl'), 'rb') as f:\n",
    "                fold_accuracies = pickle.load(f)\n",
    "            entity_accuracies_list.append(entity_accuracies)\n",
    "            fold_accuracies_list.append(fold_accuracies)\n",
    "            print(f\"Results for {encoder.__name__} already computed, skipping.\")\n",
    "            continue\n",
    "\n",
    "        if kwargs is None:\n",
    "            entity_accuracies, fold_accuracies = test_encoder(encoder, voxels, vectors, n_folds)\n",
    "        else:\n",
    "            entity_accuracies, fold_accuracies = test_encoder(encoder, voxels, vectors, n_folds, **kwargs)\n",
    "        entity_accuracies_list.append(entity_accuracies)\n",
    "        fold_accuracies_list.append(fold_accuracies)\n",
    "\n",
    "        # Save the results\n",
    "        with open(os.path.join(output_dir, f'{encoder.__name__}_entity_accuracies_{dist}.pkl'), 'wb') as f:\n",
    "            pickle.dump(entity_accuracies, f)\n",
    "        with open(os.path.join(output_dir, f'{encoder.__name__}_fold_accuracies_{dist}.pkl'), 'wb') as f:\n",
    "            pickle.dump(fold_accuracies, f)\n",
    "    \n",
    "    # cleaning up the encoders\n",
    "    del encoder_list\n",
    "\n",
    "    return entity_accuracies_list, fold_accuracies_list"
   ]
  },
  {
   "cell_type": "code",
   "execution_count": 48,
   "metadata": {},
   "outputs": [],
   "source": [
    "def plot_encoders_results(encoder_list, entity_accuracies_list, fold_accuracies_list, dist='', total_points=None):\n",
    "    \"\"\"\n",
    "    Plot the results of different encoders.\n",
    "    \n",
    "    :param encoder_list: List of encoder classes.\n",
    "    :param entity_accuracies_list: List of entity accuracies for each encoder.\n",
    "    :param fold_accuracies_list: List of fold accuracies for each encoder.\n",
    "    :param dist: A string to distinguish between different runs.\n",
    "    :param total_points: Total number of points in the dataset.\n",
    "    \"\"\"\n",
    "    import matplotlib.pyplot as plt\n",
    "    \n",
    "    plt.figure(figsize=(12, 8))\n",
    "    \n",
    "    # adding a random chance line\n",
    "    if total_points is not None:\n",
    "        plt.axhline(y=total_points/2, color='r', linestyle='--', label='Random Chance (50%)')\n",
    "    else:\n",
    "        plt.axhline(y=0.5, color='r', linestyle='--', label='Random Chance (50%)')\n",
    "    # creating a color scheme for the encoders\n",
    "    colors = plt.cm.get_cmap('Dark2')\n",
    "    for i, encoder in enumerate(encoder_list):\n",
    "        color = colors(i)\n",
    "        plt.plot(fold_accuracies_list[i], label=encoder.__name__, marker='o', color=color)\n",
    "        accuracy_string = f'Average rank of {encoder.__name__}: {np.mean(fold_accuracies_list[i]):.2f}'\n",
    "        if total_points is not None:\n",
    "            accuracy_string += f' or {np.mean(fold_accuracies_list[i])/total_points*100:.2f}% of total'\n",
    "        print(accuracy_string)\n",
    "        plt.plot(np.mean(fold_accuracies_list[i]) * np.ones_like(fold_accuracies_list[i]), \n",
    "                label=f'{encoder.__name__} Mean', linestyle='--', color=color, alpha=0.6)\n",
    "\n",
    "    plt.xticks(range(len(fold_accuracies_list[0])), range(1, len(fold_accuracies_list[0]) + 1))\n",
    "    plt.title('Fold Accuracies for Different Encoders')\n",
    "    plt.xlabel('Fold Number')\n",
    "    plt.ylabel('Accuracy')\n",
    "    plt.legend()\n",
    "    plt.grid()\n",
    "    plt.savefig(f'outputs/encoder_fold_accuracies_{dist}.png', dpi=300)\n",
    "    plt.show()"
   ]
  },
  {
   "cell_type": "code",
   "execution_count": 59,
   "metadata": {},
   "outputs": [],
   "source": [
    "def reconstruct_sentence_beam_search(encoder: Encoder, target_voxel_activation, model, tokenizer, get_sequence_embedding, \n",
    "                                     max_length=20, beam_width=5, k=10, filter_non_words=True, corr_metric='pearson', print_progress=True):\n",
    "    \"\"\"\n",
    "    Reconstructs a sentence using Brain-Guided Beam Search.\n",
    "\n",
    "    Args:\n",
    "        encoder (Encoder): The brain encoder instance.\n",
    "        target_voxel_activation (np.array): The actual fMRI data for the sentence.\n",
    "        model: The pre-trained language model.\n",
    "        tokenizer: The tokenizer for the language model.\n",
    "        get_sequence_embedding (function): Function to get the semantic embedding of a text sequence.\n",
    "        max_length (int): The maximum number of words to generate.\n",
    "        beam_width (int): The number of candidate sentences to keep at each step.\n",
    "        k (int): The number of candidate words to evaluate at each step.\n",
    "        filter_non_words (bool): If True, filters out tokens that are not valid words (e.g., special symbols, punctuation).\n",
    "        corr_metric (str): The correlation metric to use ('pearson' or 'cosine').\n",
    "        print_progress (bool): If True, prints progress updates during reconstruction.\n",
    "\n",
    "    Returns:\n",
    "        str: The reconstructed sentence.\n",
    "    \"\"\"\n",
    "    # Start with an initial beam: a sequence containing only the start token, with a score of 0.\n",
    "    initial_beam = ([tokenizer.bos_token_id], 0.0)\n",
    "    beams = [initial_beam]\n",
    "    \n",
    "    if print_progress:\n",
    "        print(f\"\\n--- Starting Sentence Reconstruction with Beam Search (width={beam_width}) ---\")\n",
    "\n",
    "    for i in tqdm(range(max_length), desc=\"Reconstructing\", unit=\"word\", leave=False):\n",
    "        all_candidates = []\n",
    "        \n",
    "        # 1. Expand each beam\n",
    "        for sequence_indices, score in beams:\n",
    "            # If a beam has already reached the end, add it to our candidates to keep it around.\n",
    "            if len(sequence_indices) > 1 and sequence_indices[-1] == tokenizer.eos_token_id:\n",
    "                all_candidates.append((sequence_indices, score))\n",
    "                continue\n",
    "            \n",
    "            # Get the language model's predictions for the next token for the current beam.\n",
    "            current_sequence_tensor = torch.tensor([sequence_indices])\n",
    "            with torch.no_grad():\n",
    "                outputs = model(current_sequence_tensor)\n",
    "                next_token_logits = outputs.logits[:, -1, :]\n",
    "\n",
    "            # Filter the top 'k' candidates to be actual words.\n",
    "            # (Using your filtering logic here)\n",
    "            token_sorted_indices = torch.argsort(next_token_logits, descending=True)[0, :].tolist()\n",
    "            top_k_tokens = []\n",
    "            for token in token_sorted_indices:\n",
    "                if len(top_k_tokens) >= k:\n",
    "                    break\n",
    "                if token == tokenizer.eos_token_id or (not filter_non_words) or (tokenizer.decode(token).strip().isalpha()):\n",
    "                    top_k_tokens.append(token)\n",
    "\n",
    "            # 2. Create new candidate sequences from the expanded beams\n",
    "            for token in top_k_tokens:\n",
    "                new_candidate_indices = sequence_indices + [token]\n",
    "                candidate_text = tokenizer.decode(new_candidate_indices)\n",
    "                \n",
    "                # Score the new candidate against the brain data\n",
    "                v_candidate = get_sequence_embedding(candidate_text, tokenizer, model)\n",
    "                # converting the candidate to a shape of (1, -1) for the encoder\n",
    "                v_candidate = v_candidate.reshape(1, -1)\n",
    "                predicted_voxel_activation = encoder.encode(v_candidate)\n",
    "                # Calculate the correlation score\n",
    "                if corr_metric == 'cosine':\n",
    "                    epsilon = 1e-8\n",
    "                    new_score = np.corrcoef(predicted_voxel_activation + epsilon, target_voxel_activation + epsilon)[0, 1]\n",
    "                else:\n",
    "                    # Using cosine similarity instead of Pearson correlation\n",
    "                    from sklearn.metrics.pairwise import cosine_similarity\n",
    "                    epsilon = 1e-8\n",
    "                    new_score = cosine_similarity(predicted_voxel_activation.reshape(1, -1) + epsilon, \n",
    "                                                  target_voxel_activation.reshape(1, -1) + epsilon)[0, 0]\n",
    "                \n",
    "                all_candidates.append((new_candidate_indices, new_score))\n",
    "\n",
    "        # 3. Prune the beams: Select the top 'beam_width' candidates\n",
    "        # We sort all candidates from all beams by their score (higher is better)\n",
    "        ordered_candidates = sorted(all_candidates, key=lambda x: x[1], reverse=True)\n",
    "        beams = ordered_candidates[:beam_width]\n",
    "\n",
    "        # Print progress\n",
    "        best_beam_indices, best_score = beams[0]\n",
    "        current_text = tokenizer.decode(best_beam_indices)\n",
    "        if print_progress:\n",
    "            print(f\"Step {i+1}/{max_length}: Best Score={best_score:.4f}, Best Beam: '{current_text}'\")\n",
    "\n",
    "        # 4. Check for stopping condition\n",
    "        # If all our top beams have ended in an <eos> token, we can stop early.\n",
    "        if all(b[0][-1] == tokenizer.eos_token_id for b in beams):\n",
    "            if print_progress:\n",
    "                print(\"All beams have reached the end-of-sentence token.\")\n",
    "            break\n",
    "\n",
    "    # The best sentence is the one in the first beam after the loop finishes.\n",
    "    best_sequence, best_score = beams[0]\n",
    "    final_sentence = tokenizer.decode(best_sequence, skip_special_tokens=True)\n",
    "    if print_progress:\n",
    "        print(\"--- Reconstruction Complete ---\")\n",
    "    if len(best_sequence) == 1:\n",
    "        return \"\", None, -np.inf\n",
    "    return final_sentence, get_sequence_embedding(final_sentence, tokenizer, model), best_score"
   ]
  },
  {
   "cell_type": "code",
   "execution_count": 79,
   "metadata": {},
   "outputs": [],
   "source": [
    "# testing the performance of the reconstruction on a few randomly selected sentences\n",
    "def test_sentence_reconstruction(sent, vecs, voxels, encoder, model, tokenizer, get_sequence_embedding, num_sentences=10, \n",
    "                                 max_length=15, k=20, beam_width=3, custom_indices=None, print_progress=True):\n",
    "    \"\"\"\n",
    "    Tests the reconstruction of a few randomly selected sentences.\n",
    "    \n",
    "    Args:\n",
    "        sent (list): List of sentences.\n",
    "        vecs (np.array): Corresponding semantic vectors for the sentences.\n",
    "        voxels (np.array): Corresponding fMRI data for the sentences.\n",
    "        encoder (Encoder): The trained encoder to use for reconstruction.\n",
    "        model: The pre-trained language model.\n",
    "        tokenizer: The tokenizer for the language model.\n",
    "        get_sequence_embedding (function): Function to get the semantic embedding of a text sequence.\n",
    "        num_sentences (int): Number of sentences to reconstruct.\n",
    "        max_length (int): Maximum length of the reconstructed sentences.\n",
    "        k (int): Number of top candidates to consider during reconstruction.\n",
    "        beam_width (int): Beam width for beam search during reconstruction.\n",
    "        custom_indices (list, optional): Specific indices to reconstruct instead of random sampling.\n",
    "        print_progress (bool): If True, prints progress updates during reconstruction.\n",
    "        \n",
    "    Returns:\n",
    "        dict: A dictionary containing the following keys:\n",
    "        - 'original_sentences': The original sentences selected for reconstruction.\n",
    "        - 'reconstructed_sentences': The reconstructed sentences.\n",
    "        - 'cosine_similarities': Cosine similarities between the target vectors and reconstructed embeddings.\n",
    "        - 'reconstruction_scores': Reconstruction scores for each sentence.\n",
    "    \"\"\"\n",
    "    if len(sent) < num_sentences:\n",
    "        raise ValueError(\"Number of sentences to reconstruct exceeds available sentences.\")\n",
    "    if custom_indices is not None:\n",
    "        random_indices = custom_indices[:num_sentences]\n",
    "    else:\n",
    "        random_indices = random.sample(range(len(sent)), num_sentences)\n",
    "\n",
    "    original_sentences = sent[random_indices]\n",
    "    reconstructed_sentences = []\n",
    "    cosine_similarities = []\n",
    "    reconstruction_scores = []\n",
    "    for idx in tqdm(random_indices, desc=\"Reconstructing Sentences\", unit=\"sentence\"):\n",
    "        target_sentence = sent[idx]\n",
    "        target_vector = vecs[idx]\n",
    "        target_voxel_activation = voxels[idx, :]\n",
    "        \n",
    "        reconstructed_sentence, reconstructed_embedding, reconstruction_score = reconstruct_sentence_beam_search(\n",
    "            encoder=encoder,\n",
    "            target_voxel_activation=target_voxel_activation,\n",
    "            model=model,\n",
    "            tokenizer=tokenizer,\n",
    "            get_sequence_embedding=get_sequence_embedding,\n",
    "            max_length=max_length,\n",
    "            k=k,\n",
    "            beam_width=beam_width,\n",
    "            print_progress=print_progress\n",
    "        )\n",
    "        \n",
    "        reconstructed_sentences.append(reconstructed_sentence)\n",
    "        \n",
    "        if reconstructed_embedding is not None:\n",
    "            cosine_similarity = np.dot(target_vector, reconstructed_embedding) / (np.linalg.norm(target_vector) * np.linalg.norm(reconstructed_embedding))\n",
    "            cosine_similarities.append(cosine_similarity)\n",
    "        else:\n",
    "            cosine_similarities.append(None)\n",
    "        \n",
    "        reconstruction_scores.append(reconstruction_score)\n",
    "\n",
    "    return {\n",
    "        \"original_sentences\": original_sentences,\n",
    "        \"reconstructed_sentences\": reconstructed_sentences,\n",
    "        \"cosine_similarities\": cosine_similarities,\n",
    "        \"reconstruction_scores\": reconstruction_scores\n",
    "    }"
   ]
  },
  {
   "cell_type": "code",
   "execution_count": 76,
   "metadata": {},
   "outputs": [],
   "source": [
    "max_sentences = 50\n",
    "random.seed(3)\n",
    "exp23_test_reconstruction_indices = random.sample(range(len(exp23_sent)), max_sentences)"
   ]
  },
  {
   "cell_type": "code",
   "execution_count": 87,
   "metadata": {},
   "outputs": [],
   "source": [
    "def print_sentence_reconstruction_results(results, desc=''):\n",
    "    \"\"\"\n",
    "    Prints the results of the sentence reconstruction.\n",
    "    And saves those same results to a file.\n",
    "\n",
    "    Args:\n",
    "        results (dict): The results of the sentence reconstruction. Should contain the following keys:\n",
    "        - 'original_sentences': List of original sentences.\n",
    "        - 'reconstructed_sentences': List of reconstructed sentences.\n",
    "        - 'cosine_similarities': List of cosine similarities between the target vectors and reconstructed embeddings.\n",
    "        - 'reconstruction_scores': List of reconstruction scores for each sentence.\n",
    "        desc: description to add to the output file name.\n",
    "    \"\"\"\n",
    "    original_sentences = results.get(\"original_sentences\", [])\n",
    "    reconstructed_sentences = results.get(\"reconstructed_sentences\", [])\n",
    "    cosine_similarities = results.get(\"cosine_similarities\", [])\n",
    "    reconstruction_scores = results.get(\"reconstruction_scores\", [])\n",
    "\n",
    "    # Save results to a file\n",
    "    output_file = f\"outputs/sentence_reconstruction_results_{desc}.txt\"\n",
    "    with open(output_file, \"w\") as f:\n",
    "        f.write(\"--- Sentence Reconstruction Results ---\\n\")\n",
    "        for i in range(len(original_sentences)):\n",
    "            f.write(f\"Original: {original_sentences[i]}\\n\")\n",
    "            f.write(f\"Reconstructed: {reconstructed_sentences[i]}\\n\")\n",
    "            if cosine_similarities[i] is not None:\n",
    "                f.write(f\"Cosine Similarity: {cosine_similarities[i]:.4f}\\n\")\n",
    "            else:\n",
    "                f.write(\"Cosine Similarity: N/A\\n\")\n",
    "            f.write(f\"Reconstruction Score: {reconstruction_scores[i]:.4f}\\n\\n\")\n",
    "\n",
    "        f.write(f\"Average Cosine Similarity: {np.mean([cs for cs in cosine_similarities if not np.isnan(cs)]):.4f}\\n\")\n",
    "        f.write(f\"Average Reconstruction Score: {np.mean(reconstruction_scores):.4f}\\n\")\n",
    "\n",
    "    print(\"\\n--- Sentence Reconstruction Results ---\")\n",
    "    for i in range(len(original_sentences)):\n",
    "        print(f\"Original: {original_sentences[i]}\")\n",
    "        print(f\"Reconstructed: {reconstructed_sentences[i]}\")\n",
    "        if cosine_similarities[i] is not None:\n",
    "            print(f\"Cosine Similarity: {cosine_similarities[i]:.4f}\")\n",
    "        else:\n",
    "            print(\"Cosine Similarity: N/A\")\n",
    "        print(f\"Reconstruction Score: {reconstruction_scores[i]:.4f}\\n\")\n",
    "\n",
    "    print(f\"Average Cosine Similarity: {np.mean([cs for cs in cosine_similarities if not np.isnan(cs)]):.4f}\")\n",
    "    print(f\"Average Reconstruction Score: {np.mean(reconstruction_scores):.4f}\")"
   ]
  },
  {
   "cell_type": "markdown",
   "metadata": {},
   "source": [
    "## Word embeddings to Sentence Prediction"
   ]
  },
  {
   "cell_type": "markdown",
   "metadata": {},
   "source": [
    "### Testing different Encoders with the GloVe Vectors"
   ]
  },
  {
   "cell_type": "code",
   "execution_count": 30,
   "metadata": {},
   "outputs": [],
   "source": [
    "encoder_list = [RidgeEncoder, FCEncoder, FC2Encoder, AttentionEncoder]"
   ]
  },
  {
   "cell_type": "code",
   "execution_count": 34,
   "metadata": {},
   "outputs": [
    {
     "name": "stdout",
     "output_type": "stream",
     "text": [
      "Results for RidgeEncoder already computed, skipping.\n"
     ]
    },
    {
     "name": "stderr",
     "output_type": "stream",
     "text": [
      "Testing FCEncoder on Folds: 100%|██████████| 6/6 [02:54<00:00, 29.16s/fold]\n",
      "Testing FC2Encoder on Folds: 100%|██████████| 6/6 [06:52<00:00, 68.69s/fold]\n",
      "Testing AttentionEncoder on Folds: 100%|██████████| 6/6 [37:54<00:00, 379.07s/fold]\n"
     ]
    }
   ],
   "source": [
    "entity_accuracies_list, fold_accuracies_list = test_different_encoders(encoder_list, exp23_fmri_glove_reduced, exp23_vecs, n_folds=6, dist='glove')"
   ]
  },
  {
   "cell_type": "code",
   "execution_count": 40,
   "metadata": {},
   "outputs": [
    {
     "name": "stderr",
     "output_type": "stream",
     "text": [
      "/var/folders/hz/fhxj23ds6q7d1qsrgm6xhz180000gn/T/ipykernel_56457/1116598340.py:21: MatplotlibDeprecationWarning: The get_cmap function was deprecated in Matplotlib 3.7 and will be removed in 3.11. Use ``matplotlib.colormaps[name]`` or ``matplotlib.colormaps.get_cmap()`` or ``pyplot.get_cmap()`` instead.\n",
      "  colors = plt.cm.get_cmap('Dark2')\n"
     ]
    },
    {
     "name": "stdout",
     "output_type": "stream",
     "text": [
      "Average rank of RidgeEncoder: 270.6611 or 43.17% of total\n",
      "Average rank of FCEncoder: 221.3818 or 35.31% of total\n",
      "Average rank of FC2Encoder: 215.7936 or 34.42% of total\n",
      "Average rank of AttentionEncoder: 216.1535 or 34.47% of total\n"
     ]
    },
    {
     "data": {
      "image/png": "[encoded data removed]",
      "text/plain": [
       "<Figure size 1200x800 with 1 Axes>"
      ]
     },
     "metadata": {},
     "output_type": "display_data"
    }
   ],
   "source": [
    "plot_encoders_results(encoder_list, entity_accuracies_list, fold_accuracies_list, dist='glove', total_points=exp23_fmri_glove_reduced.shape[0])"
   ]
  },
  {
   "cell_type": "markdown",
   "metadata": {},
   "source": [
    "### Making the predictions (using experiments 2 and 3)"
   ]
  },
  {
   "cell_type": "code",
   "execution_count": 64,
   "metadata": {},
   "outputs": [],
   "source": [
    "# Creating the encoder from the data used in the second experiment\n",
    "encoder_glove = init_and_train_encoder(AttentionEncoder, exp23_fmri_glove_reduced, exp23_vecs)\n",
    "# in order to avoid recomputing the encoder, we can save it\n",
    "with open('data/encoder_glove.pkl', 'wb') as f:\n",
    "    pickle.dump(encoder_glove, f)"
   ]
  },
  {
   "cell_type": "code",
   "execution_count": null,
   "metadata": {},
   "outputs": [],
   "source": [
    "# if the encoder is already saved, we can load it\n",
    "if os.path.exists('data/encoder_glove.pkl'):\n",
    "    with open('data/encoder_glove.pkl', 'rb') as f:\n",
    "        encoder_glove = pickle.load(f)"
   ]
  },
  {
   "cell_type": "code",
   "execution_count": 66,
   "metadata": {},
   "outputs": [
    {
     "name": "stdout",
     "output_type": "stream",
     "text": [
      "Target Sentence: Chairs can also have back and arm rests, as well as a cushion.\n",
      "\n",
      "--- Starting Sentence Reconstruction with Beam Search (width=3) ---\n"
     ]
    },
    {
     "name": "stderr",
     "output_type": "stream",
     "text": [
      "Reconstructing:   7%|▋         | 1/15 [00:01<00:16,  1.21s/word]"
     ]
    },
    {
     "name": "stdout",
     "output_type": "stream",
     "text": [
      "Step 1/15: Best Score=0.1720, Best Beam: '<|endoftext|> s'\n"
     ]
    },
    {
     "name": "stderr",
     "output_type": "stream",
     "text": [
      "Reconstructing:  13%|█▎        | 2/15 [00:02<00:16,  1.27s/word]"
     ]
    },
    {
     "name": "stdout",
     "output_type": "stream",
     "text": [
      "Step 2/15: Best Score=0.4526, Best Beam: '<|endoftext|> ekt'\n"
     ]
    },
    {
     "name": "stderr",
     "output_type": "stream",
     "text": [
      "Reconstructing:  20%|██        | 3/15 [00:03<00:15,  1.27s/word]"
     ]
    },
    {
     "name": "stdout",
     "output_type": "stream",
     "text": [
      "Step 3/15: Best Score=0.4985, Best Beam: '<|endoftext|> is no way'\n"
     ]
    },
    {
     "name": "stderr",
     "output_type": "stream",
     "text": [
      "Reconstructing:  27%|██▋       | 4/15 [00:05<00:13,  1.27s/word]"
     ]
    },
    {
     "name": "stdout",
     "output_type": "stream",
     "text": [
      "Step 4/15: Best Score=0.5516, Best Beam: '<|endoftext|> is no way on'\n"
     ]
    },
    {
     "name": "stderr",
     "output_type": "stream",
     "text": [
      "Reconstructing:  33%|███▎      | 5/15 [00:06<00:12,  1.28s/word]"
     ]
    },
    {
     "name": "stdout",
     "output_type": "stream",
     "text": [
      "Step 5/15: Best Score=0.5763, Best Beam: '<|endoftext|> is no place on any'\n"
     ]
    },
    {
     "name": "stderr",
     "output_type": "stream",
     "text": [
      "Reconstructing:  40%|████      | 6/15 [00:07<00:10,  1.19s/word]"
     ]
    },
    {
     "name": "stdout",
     "output_type": "stream",
     "text": [
      "Step 6/15: Best Score=0.6630, Best Beam: '<|endoftext|> is no place without their support'\n"
     ]
    },
    {
     "name": "stderr",
     "output_type": "stream",
     "text": [
      "Reconstructing:  47%|████▋     | 7/15 [00:08<00:08,  1.12s/word]"
     ]
    },
    {
     "name": "stdout",
     "output_type": "stream",
     "text": [
      "Step 7/15: Best Score=0.6849, Best Beam: '<|endoftext|> is no place without their support on'\n"
     ]
    },
    {
     "name": "stderr",
     "output_type": "stream",
     "text": [
      "Reconstructing:  53%|█████▎    | 8/15 [00:09<00:07,  1.05s/word]"
     ]
    },
    {
     "name": "stdout",
     "output_type": "stream",
     "text": [
      "Step 8/15: Best Score=0.6888, Best Beam: '<|endoftext|> is no place without their support on stage'\n"
     ]
    },
    {
     "name": "stderr",
     "output_type": "stream",
     "text": [
      "Reconstructing:  60%|██████    | 9/15 [00:10<00:06,  1.00s/word]"
     ]
    },
    {
     "name": "stdout",
     "output_type": "stream",
     "text": [
      "Step 9/15: Best Score=0.7131, Best Beam: '<|endoftext|> is no place without their support on any platform'\n"
     ]
    },
    {
     "name": "stderr",
     "output_type": "stream",
     "text": [
      "Reconstructing:  67%|██████▋   | 10/15 [00:11<00:04,  1.04word/s]"
     ]
    },
    {
     "name": "stdout",
     "output_type": "stream",
     "text": [
      "Step 10/15: Best Score=0.7175, Best Beam: '<|endoftext|> is no place without their support on any side except'\n"
     ]
    },
    {
     "name": "stderr",
     "output_type": "stream",
     "text": [
      "Reconstructing:  73%|███████▎  | 11/15 [00:11<00:03,  1.06word/s]"
     ]
    },
    {
     "name": "stdout",
     "output_type": "stream",
     "text": [
      "Step 11/15: Best Score=0.7310, Best Beam: '<|endoftext|> is no place without their support on any platform I support'\n"
     ]
    },
    {
     "name": "stderr",
     "output_type": "stream",
     "text": [
      "Reconstructing:  80%|████████  | 12/15 [00:12<00:02,  1.06word/s]"
     ]
    },
    {
     "name": "stdout",
     "output_type": "stream",
     "text": [
      "Step 12/15: Best Score=0.7354, Best Beam: '<|endoftext|> is no place without their support on any platform I have supported'\n"
     ]
    },
    {
     "name": "stderr",
     "output_type": "stream",
     "text": [
      "Reconstructing:  87%|████████▋ | 13/15 [00:13<00:01,  1.03word/s]"
     ]
    },
    {
     "name": "stdout",
     "output_type": "stream",
     "text": [
      "Step 13/15: Best Score=0.7406, Best Beam: '<|endoftext|> is no place without their support on any platform I have supported since'\n"
     ]
    },
    {
     "name": "stderr",
     "output_type": "stream",
     "text": [
      "Reconstructing:  93%|█████████▎| 14/15 [00:14<00:00,  1.04word/s]"
     ]
    },
    {
     "name": "stdout",
     "output_type": "stream",
     "text": [
      "Step 14/15: Best Score=0.7530, Best Beam: '<|endoftext|> is no place without their support on any platform I support including Apple devices'\n"
     ]
    },
    {
     "name": "stderr",
     "output_type": "stream",
     "text": [
      "                                                                 "
     ]
    },
    {
     "name": "stdout",
     "output_type": "stream",
     "text": [
      "Step 15/15: Best Score=0.7530, Best Beam: '<|endoftext|> is no place without their support on any platform I support including Apple devices I'\n",
      "--- Reconstruction Complete ---\n",
      "Reconstructed Sentence:  is no place without their support on any platform I support including Apple devices I\n",
      "Cosine Similarity between target and reconstructed embedding: 0.8206\n",
      "Reconstruction Score: 0.7530\n"
     ]
    },
    {
     "name": "stderr",
     "output_type": "stream",
     "text": [
      "\r"
     ]
    }
   ],
   "source": [
    "# for the sake of testing, let's reconstruct the first sentence from the second experiment\n",
    "target_sentence = exp23_sent[70]\n",
    "target_vector = exp23_vecs[70]\n",
    "target_voxel_activation = exp23_fmri_reduced[70, :]\n",
    "print(f\"Target Sentence: {target_sentence}\")\n",
    "\n",
    "reconstructed_sentence, reconstructed_embedding, reconstruction_score = reconstruct_sentence_beam_search(\n",
    "    encoder=encoder_glove,\n",
    "    target_voxel_activation=target_voxel_activation,\n",
    "    model=lm_model,\n",
    "    tokenizer=lm_tokenizer,\n",
    "    get_sequence_embedding=get_glove_sequence_embedding,\n",
    "    max_length=15,\n",
    "    k=20,\n",
    "    beam_width=3\n",
    ")\n",
    "print(f\"Reconstructed Sentence: {reconstructed_sentence}\")\n",
    "# calculating the cosine similarity between the target vector and the reconstructed embedding\n",
    "if reconstructed_embedding is not None:\n",
    "    cosine_similarity = np.dot(target_vector, reconstructed_embedding) / (np.linalg.norm(target_vector) * np.linalg.norm(reconstructed_embedding))\n",
    "    print(f\"Cosine Similarity between target and reconstructed embedding: {cosine_similarity:.4f}\")\n",
    "else:\n",
    "    print(\"Reconstructed embedding is None, cannot calculate cosine similarity.\")\n",
    "print(f\"Reconstruction Score: {reconstruction_score:.4f}\")"
   ]
  },
  {
   "cell_type": "code",
   "execution_count": 80,
   "metadata": {},
   "outputs": [
    {
     "name": "stderr",
     "output_type": "stream",
     "text": [
      "Reconstructing Sentences:  34%|███▍      | 17/50 [04:03<07:52, 14.32s/sentence]/var/folders/hz/fhxj23ds6q7d1qsrgm6xhz180000gn/T/ipykernel_56457/3284097468.py:60: RuntimeWarning: invalid value encountered in scalar divide\n",
      "  cosine_similarity = np.dot(target_vector, reconstructed_embedding) / (np.linalg.norm(target_vector) * np.linalg.norm(reconstructed_embedding))\n",
      "Reconstructing Sentences: 100%|██████████| 50/50 [11:54<00:00, 14.30s/sentence]\n"
     ]
    }
   ],
   "source": [
    "# testing the reconstruction\n",
    "glove_reconstruction_results = test_sentence_reconstruction(\n",
    "    sent=exp23_sent, \n",
    "    vecs=exp23_vecs, \n",
    "    voxels=exp23_fmri_reduced, \n",
    "    encoder=encoder_glove, \n",
    "    model=lm_model, \n",
    "    tokenizer=lm_tokenizer, \n",
    "    get_sequence_embedding=get_glove_sequence_embedding, \n",
    "    num_sentences=50,\n",
    "    print_progress=False,\n",
    "    max_length=15,\n",
    "    k=20,\n",
    "    beam_width=3,\n",
    "    custom_indices=exp23_test_reconstruction_indices\n",
    ")\n",
    "# saving the results\n",
    "with open('data/glove_reconstruction_results.pkl', 'wb') as f:\n",
    "    pickle.dump(glove_reconstruction_results, f)"
   ]
  },
  {
   "cell_type": "code",
   "execution_count": null,
   "metadata": {},
   "outputs": [],
   "source": [
    "# if the results are already saved, we can load them\n",
    "if os.path.exists('data/glove_reconstruction_results.pkl'):\n",
    "    with open('data/glove_reconstruction_results.pkl', 'rb') as f:\n",
    "        glove_reconstruction_results = pickle.load(f)"
   ]
  },
  {
   "cell_type": "code",
   "execution_count": 88,
   "metadata": {},
   "outputs": [
    {
     "name": "stdout",
     "output_type": "stream",
     "text": [
      "\n",
      "--- Sentence Reconstruction Results ---\n",
      "Original: Their appearance and abilities makes them popular pets.\n",
      "Reconstructed:  bør lille barna sproket og skræmt ud\n",
      "Cosine Similarity: 0.0057\n",
      "Reconstruction Score: 0.6809\n",
      "\n",
      "Original: Even beginner rock climbing takes courage and strength.\n",
      "Reconstructed:  István Szabó has become more powerful as it takes hold\n",
      "Cosine Similarity: 0.8222\n",
      "Reconstruction Score: 0.7616\n",
      "\n",
      "Original: She has to use solid elements of design, like strong composition and lighting.\n",
      "Reconstructed:  with respect both at individual subject of a group therapy is important due especially also\n",
      "Cosine Similarity: 0.8450\n",
      "Reconstruction Score: 0.9114\n",
      "\n",
      "Original: Flood can be caused by heavy rain or rapid snow melt, as well as earthquakes at sea.\n",
      "Reconstructed:  fiz a cách cung k go luath ag cail\n",
      "Cosine Similarity: 0.4743\n",
      "Reconstruction Score: 0.7228\n",
      "\n",
      "Original: When open, a window will also let air and sound through.\n",
      "Reconstructed:  I think we did great there and made lotsof points out front I want\n",
      "Cosine Similarity: 0.8150\n",
      "Reconstruction Score: 0.6186\n",
      "\n",
      "Original: I made a bad turn and I found myself tumbling down.\n",
      "Reconstructed:  eko wan yuyao de xis xiu xians\n",
      "Cosine Similarity: 0.2042\n",
      "Reconstruction Score: 0.5988\n",
      "\n",
      "Original: Each person has his or her own response to potentially stressful situations.\n",
      "Reconstructed:  is a well received piece because a person must experience life outside normal everyday situations\n",
      "Cosine Similarity: 0.8270\n",
      "Reconstruction Score: 0.8592\n",
      "\n",
      "Original: The thick outside walls sheltered an inner courtyard hundreds of feet above the river.\n",
      "Reconstructed:  István Szabadosi and others has pointed me over towards\n",
      "Cosine Similarity: 0.7311\n",
      "Reconstruction Score: 0.7343\n",
      "\n",
      "Original: The claws of cats are retractable so that they keep sharp.\n",
      "Reconstructed:  in which both sides engage without firing shot nor artillery during two long periods without\n",
      "Cosine Similarity: 0.6467\n",
      "Reconstruction Score: 0.6839\n",
      "\n",
      "Original: My skis were nowhere to be found and my poles were lodged in a snow drift up the hill.\n",
      "Reconstructed:  and all associated images from The Art Gallery go through various stages from inception in\n",
      "Cosine Similarity: 0.6977\n",
      "Reconstruction Score: 0.6716\n",
      "\n",
      "Original: A fire investigation determines if a fire was caused by accident or arson.\n",
      "Reconstructed:  István Szabados has the ability that no man possesses the\n",
      "Cosine Similarity: 0.6721\n",
      "Reconstruction Score: 0.6877\n",
      "\n",
      "Original: They also conduct health and wellness screenings and provide vaccines.\n",
      "Reconstructed:  of any person whose personal health matters require special medical procedures to provide health counseling\n",
      "Cosine Similarity: 0.8404\n",
      "Reconstruction Score: 0.8485\n",
      "\n",
      "Original: Some refrigerators can have a small compartment at freezing temperature.\n",
      "Reconstructed:  bitti a mó tó mô tí á milli m\n",
      "Cosine Similarity: 0.2240\n",
      "Reconstruction Score: 0.7406\n",
      "\n",
      "Original: An artist's eye is not a camera lens that has to record everything within its field of vision.\n",
      "Reconstructed:  in which all these different features that the human eye receives in color vision get\n",
      "Cosine Similarity: 0.8863\n",
      "Reconstruction Score: 0.9032\n",
      "\n",
      "Original: Orange juice is often drunk at breakfast from a glass.\n",
      "Reconstructed:  and a group consisting almost equally numbers representing other national minority and non white populations\n",
      "Cosine Similarity: 0.7191\n",
      "Reconstruction Score: 0.8542\n",
      "\n",
      "Original: Lettuce is a biennial plant often grown in temperate climates as a leaf vegetable.\n",
      "Reconstructed:  is known that its purpose includes making people live longer healthier lifecycle with lower\n",
      "Cosine Similarity: 0.6306\n",
      "Reconstruction Score: 0.6396\n",
      "\n",
      "Original: Pharmacists must have professional degrees and pass two exams in order to be licensed.\n",
      "Reconstructed:  in order obtain good clinical experience or obtain certification or professional license required before beginning\n",
      "Cosine Similarity: 0.8930\n",
      "Reconstruction Score: 0.9151\n",
      "\n",
      "Original: Her job is not just about singing.\n",
      "Reconstructed:  Ils fontentimenteontremententententententent\n",
      "Cosine Similarity: nan\n",
      "Reconstruction Score: 0.4546\n",
      "\n",
      "Original: They signed their work, decided on its subject and imagery, and established a personal relationship with their patrons.\n",
      "Reconstructed:  with respect its relationship either directly through contract relations established prior to his accession by\n",
      "Cosine Similarity: 0.9169\n",
      "Reconstruction Score: 0.9114\n",
      "\n",
      "Original: There are everyday stresses, like being stuck in traffic.\n",
      "Reconstructed:  Ils sont étrangers a Paris a commin ce week week i\n",
      "Cosine Similarity: 0.6823\n",
      "Reconstruction Score: 0.6861\n",
      "\n",
      "Original: Gambling was something I had to do, and I had already spent close to $10,000 doing it.\n",
      "Reconstructed:  István Szabói and others of my father were involved\n",
      "Cosine Similarity: 0.8291\n",
      "Reconstruction Score: 0.6119\n",
      "\n",
      "Original: The food is cooked on oil covering the bottom of the pan.\n",
      "Reconstructed:  with the highest levels reported at two separate farms located approximately half of half square\n",
      "Cosine Similarity: 0.7406\n",
      "Reconstruction Score: 0.8667\n",
      "\n",
      "Original: Orange juice has a sweet, acid taste and contains a lot of vitamin C.\n",
      "Reconstructed:  and he didn t give an option other d than c and c plus plus\n",
      "Cosine Similarity: 0.7810\n",
      "Reconstruction Score: 0.6905\n",
      "\n",
      "Original: Frying pans are made of iron or teflon-clad steel.\n",
      "Reconstructed:  with other groups at risk from environmental health issues because many donates don t\n",
      "Cosine Similarity: 0.5653\n",
      "Reconstruction Score: 0.8186\n",
      "\n",
      "Original: New ear piercings can become infected if they're not carefully cleaned.\n",
      "Reconstructed:  with a few new recipes here or check out other new menus I created recently\n",
      "Cosine Similarity: 0.8112\n",
      "Reconstruction Score: 0.7531\n",
      "\n",
      "Original: Each morning, participants in the study had to write down their dream experience from the previous night.\n",
      "Reconstructed:  of this report includes comments received prior approval during this study through May first next\n",
      "Cosine Similarity: 0.8915\n",
      "Reconstruction Score: 0.7747\n",
      "\n",
      "Original: The severity of the crime depends on whether people were harmed.\n",
      "Reconstructed:  with the patient by one trained provider per unit over all unit lengths at risk\n",
      "Cosine Similarity: 0.7176\n",
      "Reconstruction Score: 0.8640\n",
      "\n",
      "Original: Cats like to groom themselves by licking their fur.\n",
      "Reconstructed:  e ness eo me nelli nno sso sra to\n",
      "Cosine Similarity: 0.4649\n",
      "Reconstruction Score: 0.7725\n",
      "\n",
      "Original: A mitten is a kind of glove where the four fingers are covered together.\n",
      "Reconstructed:  I do the cooking all together while I clean all together while washing hands clean\n",
      "Cosine Similarity: 0.8080\n",
      "Reconstruction Score: 0.6468\n",
      "\n",
      "Original: Others speculate that ramps zigzagged up the exterior walls of the pyramid.\n",
      "Reconstructed:  I just went up stairs I see some lights up stairs and there goes out\n",
      "Cosine Similarity: 0.7387\n",
      "Reconstruction Score: 0.7352\n",
      "\n",
      "Original: Blacksmiths make objects like weapons, horse shoes or iron furniture.\n",
      "Reconstructed:  with one of those small glasses made specially from natural substances like sandals etc\n",
      "Cosine Similarity: 0.8448\n",
      "Reconstruction Score: 0.7837\n",
      "\n",
      "Original: Spears are weapons that consist of a pole and sharpened head at one end.\n",
      "Reconstructed:  is a small genus endemic genus to tropical rain Forelandsia a new tax\n",
      "Cosine Similarity: 0.6682\n",
      "Reconstruction Score: 0.7193\n",
      "\n",
      "Original: Another type of bed is the hammock, a fabric sling suspended above the ground.\n",
      "Reconstructed:  in a long line up behind a giant tent full or bands ready go down\n",
      "Cosine Similarity: 0.8124\n",
      "Reconstruction Score: 0.6578\n",
      "\n",
      "Original: Salmon is the most common farmed fish, though it can also be caught in the wild.\n",
      "Reconstructed:  and then some food was served at mid of that too I can be seen\n",
      "Cosine Similarity: 0.8224\n",
      "Reconstruction Score: 0.6430\n",
      "\n",
      "Original: I know it's cliche, but I love the impact that I have on lives of my patients.\n",
      "Reconstructed:  István Szabadosi i a Választh\n",
      "Cosine Similarity: 0.7721\n",
      "Reconstruction Score: 0.6825\n",
      "\n",
      "Original: All of the boys on the trip were new to rock climbing.\n",
      "Reconstructed:  of its new product family called SlimFit Plus are just getting rolling today\n",
      "Cosine Similarity: 0.8044\n",
      "Reconstruction Score: 0.7890\n",
      "\n",
      "Original: In my dream, it's the day of my final exam and I suddenly realize I've never gone to class.\n",
      "Reconstructed:  I have always thought my writing needs revision until today i realised I havena\n",
      "Cosine Similarity: 0.8870\n",
      "Reconstruction Score: 0.8654\n",
      "\n",
      "Original: The sharp blades underneath the lawn mower precisely sever each blade of grass.\n",
      "Reconstructed:  mà đó đô hi sre đôn phát kh\n",
      "Cosine Similarity: 0.0648\n",
      "Reconstruction Score: 0.6608\n",
      "\n",
      "Original: Images, feelings, stories, and strange combinations of characters and places can fill our dreams.\n",
      "Reconstructed:  miehe on itti toimittaja toimittaja toim\n",
      "Cosine Similarity: 0.2431\n",
      "Reconstruction Score: 0.4986\n",
      "\n",
      "Original: Spectacular castles in dramatic locations provide a record of the stormy history of many regions.\n",
      "Reconstructed:  with one more year and six additional episodes with the help I could afford the\n",
      "Cosine Similarity: 0.7907\n",
      "Reconstruction Score: 0.8839\n",
      "\n",
      "Original: Computers have been used in art for a long time by experimental artists.\n",
      "Reconstructed:  with its original art work which were used before they started selling art prints or\n",
      "Cosine Similarity: 0.9155\n",
      "Reconstruction Score: 0.8308\n",
      "\n",
      "Original: Floors may be made of bare concrete, tile, linoleum or wooden floorboards.\n",
      "Reconstructed:  eko seksi pornografi gratissima i jizuju\n",
      "Cosine Similarity: 0.1757\n",
      "Reconstruction Score: 0.8015\n",
      "\n",
      "Original: The blubber in a whale serves as an energy reservoir and as insulation.\n",
      "Reconstructed:  I had no such thoughts at dinner last month while eating steak off plates for\n",
      "Cosine Similarity: 0.6054\n",
      "Reconstruction Score: 0.6859\n",
      "\n",
      "Original: It can be hard to climb stairs or ride a bike in a dress.\n",
      "Reconstructed:  in a single bite to eat for lunch everyday to be prepared properly to suit\n",
      "Cosine Similarity: 0.8048\n",
      "Reconstruction Score: 0.7553\n",
      "\n",
      "Original: A bicycle is a vehicle with two wheels and pedals on a frame.\n",
      "Reconstructed:  egi epi peria peria per aikataa ongel\n",
      "Cosine Similarity: 0.1539\n",
      "Reconstruction Score: 0.6723\n",
      "\n",
      "Original: In buildings the floor often has pipes and electrical wiring under it.\n",
      "Reconstructed:  bitti kelma kulma jutti paan vann\n",
      "Cosine Similarity: -0.2216\n",
      "Reconstruction Score: 0.7064\n",
      "\n",
      "Original: Her blindness was caused by a genetic condition that slowly damaged the eyes.\n",
      "Reconstructed:  István Szabói was one more who took an un\n",
      "Cosine Similarity: 0.6627\n",
      "Reconstruction Score: 0.6258\n",
      "\n",
      "Original: A range of mountains forms due to tectonic plate collision.\n",
      "Reconstructed:  and all over Europe were held up over unpaid rent due last spring due primarily\n",
      "Cosine Similarity: 0.7596\n",
      "Reconstruction Score: 0.7063\n",
      "\n",
      "Original: A refrigerator is a cooling device used to contain and preserve food.\n",
      "Reconstructed:  fiz a vás vety zdaj so nauze n\n",
      "Cosine Similarity: 0.4657\n",
      "Reconstruction Score: 0.6099\n",
      "\n",
      "Original: Much of their training is conducted underwater.\n",
      "Reconstructed:  I was at school during partway but couldnot concentrate on studies due I\n",
      "Cosine Similarity: 0.8007\n",
      "Reconstruction Score: 0.7139\n",
      "\n",
      "Average Cosine Similarity: 0.6472\n",
      "Average Reconstruction Score: 0.7342\n"
     ]
    }
   ],
   "source": [
    "print_sentence_reconstruction_results(glove_reconstruction_results, desc=\"glove\")"
   ]
  },
  {
   "cell_type": "code",
   "execution_count": 89,
   "metadata": {},
   "outputs": [],
   "source": [
    "del glove_embs, encoder_glove"
   ]
  },
  {
   "cell_type": "markdown",
   "metadata": {},
   "source": [
    "## Sentence embeddings to Sentence Prediction"
   ]
  },
  {
   "cell_type": "markdown",
   "metadata": {},
   "source": [
    "## Using LLM"
   ]
  },
  {
   "cell_type": "markdown",
   "metadata": {},
   "source": [
    "### Testing different Encoders with the LLM vectors (combined data from exp2 and exp3)"
   ]
  },
  {
   "cell_type": "code",
   "execution_count": 51,
   "metadata": {},
   "outputs": [],
   "source": [
    "llm_encoder_list = [RidgeEncoder, FCEncoder, FC2Encoder, AttentionEncoder]"
   ]
  },
  {
   "cell_type": "code",
   "execution_count": 52,
   "metadata": {},
   "outputs": [
    {
     "name": "stdout",
     "output_type": "stream",
     "text": [
      "Results for RidgeEncoder already computed, skipping.\n",
      "Results for FCEncoder already computed, skipping.\n",
      "Results for FC2Encoder already computed, skipping.\n",
      "Results for AttentionEncoder already computed, skipping.\n"
     ]
    }
   ],
   "source": [
    "llm_entity_accuracies_list, llm_fold_accuracies_list = test_different_encoders(llm_encoder_list, exp23_fmri_reduced, exp23_vecs_llm, n_folds=6, dist='llm_exp23')"
   ]
  },
  {
   "cell_type": "code",
   "execution_count": 53,
   "metadata": {},
   "outputs": [
    {
     "name": "stderr",
     "output_type": "stream",
     "text": [
      "/var/folders/hz/fhxj23ds6q7d1qsrgm6xhz180000gn/T/ipykernel_56457/590963294.py:21: MatplotlibDeprecationWarning: The get_cmap function was deprecated in Matplotlib 3.7 and will be removed in 3.11. Use ``matplotlib.colormaps[name]`` or ``matplotlib.colormaps.get_cmap()`` or ``pyplot.get_cmap()`` instead.\n",
      "  colors = plt.cm.get_cmap('Dark2')\n"
     ]
    },
    {
     "name": "stdout",
     "output_type": "stream",
     "text": [
      "Average rank of RidgeEncoder: 235.75 or 37.60% of total\n",
      "Average rank of FCEncoder: 214.48 or 34.21% of total\n",
      "Average rank of FC2Encoder: 318.60 or 50.81% of total\n",
      "Average rank of AttentionEncoder: 189.52 or 30.23% of total\n"
     ]
    },
    {
     "data": {
      "image/png": "[encoded data removed]",
      "text/plain": [
       "<Figure size 1200x800 with 1 Axes>"
      ]
     },
     "metadata": {},
     "output_type": "display_data"
    }
   ],
   "source": [
    "plot_encoders_results(llm_encoder_list, llm_entity_accuracies_list, llm_fold_accuracies_list, dist='llm_exp23', total_points=exp23_fmri_reduced.shape[0])"
   ]
  },
  {
   "cell_type": "code",
   "execution_count": null,
   "metadata": {},
   "outputs": [],
   "source": [
    "# clean the saved results if needed\n",
    "# remove all files from outputs/ which end with llm_exp23\n",
    "\n",
    "# files = glob.glob('outputs/*llm_exp23*')\n",
    "# for f in files:\n",
    "#     os.remove(f)"
   ]
  },
  {
   "cell_type": "markdown",
   "metadata": {},
   "source": [
    "### Testing different Encoders with the LLM vectors (combined data from exp2 and exp3) \n",
    "### using correlation loss"
   ]
  },
  {
   "cell_type": "code",
   "execution_count": 54,
   "metadata": {},
   "outputs": [],
   "source": [
    "llm_encoder_list = [RidgeEncoder, FCEncoder, FC2Encoder, AttentionEncoder]\n",
    "llm_encoder_kwargs = [None, {'metric': 'corr'}, {'metric': 'corr'}, {'metric': 'corr'}]"
   ]
  },
  {
   "cell_type": "code",
   "execution_count": 55,
   "metadata": {},
   "outputs": [
    {
     "name": "stdout",
     "output_type": "stream",
     "text": [
      "Results for RidgeEncoder already computed, skipping.\n",
      "Results for FCEncoder already computed, skipping.\n",
      "Results for FC2Encoder already computed, skipping.\n",
      "Results for AttentionEncoder already computed, skipping.\n"
     ]
    }
   ],
   "source": [
    "llm_entity_accuracies_list, llm_fold_accuracies_list = test_different_encoders(llm_encoder_list, exp23_fmri_reduced, exp23_vecs_llm, n_folds=6, dist='llm_exp23_corr')"
   ]
  },
  {
   "cell_type": "code",
   "execution_count": 56,
   "metadata": {},
   "outputs": [
    {
     "name": "stderr",
     "output_type": "stream",
     "text": [
      "/var/folders/hz/fhxj23ds6q7d1qsrgm6xhz180000gn/T/ipykernel_56457/590963294.py:21: MatplotlibDeprecationWarning: The get_cmap function was deprecated in Matplotlib 3.7 and will be removed in 3.11. Use ``matplotlib.colormaps[name]`` or ``matplotlib.colormaps.get_cmap()`` or ``pyplot.get_cmap()`` instead.\n",
      "  colors = plt.cm.get_cmap('Dark2')\n"
     ]
    },
    {
     "name": "stdout",
     "output_type": "stream",
     "text": [
      "Average rank of RidgeEncoder: 235.75 or 37.60% of total\n",
      "Average rank of FCEncoder: 214.48 or 34.21% of total\n",
      "Average rank of FC2Encoder: 318.60 or 50.81% of total\n",
      "Average rank of AttentionEncoder: 189.52 or 30.23% of total\n"
     ]
    },
    {
     "data": {
      "image/png": "[encoded data removed]",
      "text/plain": [
       "<Figure size 1200x800 with 1 Axes>"
      ]
     },
     "metadata": {},
     "output_type": "display_data"
    }
   ],
   "source": [
    "plot_encoders_results(llm_encoder_list, llm_entity_accuracies_list, llm_fold_accuracies_list, dist='llm_exp23', total_points=exp23_fmri_reduced.shape[0])"
   ]
  },
  {
   "cell_type": "code",
   "execution_count": null,
   "metadata": {},
   "outputs": [],
   "source": [
    "# clean the saved results if needed\n",
    "# remove all files from outputs/ which end with llm_exp23_corr\n",
    "\n",
    "# files = glob.glob('outputs/*llm_exp23_corr*')\n",
    "# for f in files:\n",
    "#     os.remove(f)"
   ]
  },
  {
   "cell_type": "markdown",
   "metadata": {},
   "source": [
    "### Making the predictions (using experiments 2 and 3)"
   ]
  },
  {
   "cell_type": "code",
   "execution_count": null,
   "metadata": {},
   "outputs": [],
   "source": [
    "encoder_llm = init_and_train_encoder(AttentionEncoder, exp23_fmri_reduced, exp23_vecs_llm)\n",
    "# in order to avoid recomputing the encoder, we can save it\n",
    "with open('data/encoder_llm.pkl', 'wb') as f:\n",
    "    pickle.dump(encoder_llm, f)"
   ]
  },
  {
   "cell_type": "code",
   "execution_count": 90,
   "metadata": {},
   "outputs": [],
   "source": [
    "# if the encoder is already saved, we can load it\n",
    "if os.path.exists('data/encoder_llm.pkl'):\n",
    "    with open('data/encoder_llm.pkl', 'rb') as f:\n",
    "        encoder_llm = pickle.load(f)"
   ]
  },
  {
   "cell_type": "code",
   "execution_count": 91,
   "metadata": {},
   "outputs": [
    {
     "name": "stdout",
     "output_type": "stream",
     "text": [
      "Target Sentence: Chairs can also have back and arm rests, as well as a cushion.\n",
      "\n",
      "--- Starting Sentence Reconstruction with Beam Search (width=3) ---\n"
     ]
    },
    {
     "name": "stderr",
     "output_type": "stream",
     "text": [
      "Reconstructing:   7%|▋         | 1/15 [00:06<01:35,  6.82s/word]"
     ]
    },
    {
     "name": "stdout",
     "output_type": "stream",
     "text": [
      "Step 1/15: Best Score=0.3803, Best Beam: '<|endoftext|> s'\n"
     ]
    },
    {
     "name": "stderr",
     "output_type": "stream",
     "text": [
      "Reconstructing:  13%|█▎        | 2/15 [00:27<03:15, 15.03s/word]"
     ]
    },
    {
     "name": "stdout",
     "output_type": "stream",
     "text": [
      "Step 2/15: Best Score=0.4390, Best Beam: '<|endoftext|> in his'\n"
     ]
    },
    {
     "name": "stderr",
     "output_type": "stream",
     "text": [
      "Reconstructing:  20%|██        | 3/15 [00:52<03:53, 19.49s/word]"
     ]
    },
    {
     "name": "stdout",
     "output_type": "stream",
     "text": [
      "Step 3/15: Best Score=0.5073, Best Beam: '<|endoftext|> in his or'\n"
     ]
    },
    {
     "name": "stderr",
     "output_type": "stream",
     "text": [
      "Reconstructing:  27%|██▋       | 4/15 [01:13<03:42, 20.21s/word]"
     ]
    },
    {
     "name": "stdout",
     "output_type": "stream",
     "text": [
      "Step 4/15: Best Score=0.5218, Best Beam: '<|endoftext|> in his or my'\n"
     ]
    },
    {
     "name": "stderr",
     "output_type": "stream",
     "text": [
      "Reconstructing:  33%|███▎      | 5/15 [01:29<03:04, 18.44s/word]"
     ]
    },
    {
     "name": "stdout",
     "output_type": "stream",
     "text": [
      "Step 5/15: Best Score=0.5302, Best Beam: '<|endoftext|> in his or our best'\n"
     ]
    },
    {
     "name": "stderr",
     "output_type": "stream",
     "text": [
      "Reconstructing:  40%|████      | 6/15 [01:43<02:34, 17.15s/word]"
     ]
    },
    {
     "name": "stdout",
     "output_type": "stream",
     "text": [
      "Step 6/15: Best Score=0.5405, Best Beam: '<|endoftext|> in his or our best to'\n"
     ]
    },
    {
     "name": "stderr",
     "output_type": "stream",
     "text": [
      "Reconstructing:  47%|████▋     | 7/15 [01:56<02:05, 15.71s/word]"
     ]
    },
    {
     "name": "stdout",
     "output_type": "stream",
     "text": [
      "Step 7/15: Best Score=0.5362, Best Beam: '<|endoftext|> in his or my book to provide'\n"
     ]
    },
    {
     "name": "stderr",
     "output_type": "stream",
     "text": [
      "Reconstructing:  53%|█████▎    | 8/15 [02:09<01:43, 14.82s/word]"
     ]
    },
    {
     "name": "stdout",
     "output_type": "stream",
     "text": [
      "Step 8/15: Best Score=0.5480, Best Beam: '<|endoftext|> in his or my book to include in'\n"
     ]
    },
    {
     "name": "stderr",
     "output_type": "stream",
     "text": [
      "Reconstructing:  60%|██████    | 9/15 [02:22<01:25, 14.19s/word]"
     ]
    },
    {
     "name": "stdout",
     "output_type": "stream",
     "text": [
      "Step 9/15: Best Score=0.5600, Best Beam: '<|endoftext|> in his or my book to include in the'\n"
     ]
    },
    {
     "name": "stderr",
     "output_type": "stream",
     "text": [
      "Reconstructing:  67%|██████▋   | 10/15 [02:34<01:08, 13.75s/word]"
     ]
    },
    {
     "name": "stdout",
     "output_type": "stream",
     "text": [
      "Step 10/15: Best Score=0.5698, Best Beam: '<|endoftext|> in his or my book to include in the end'\n"
     ]
    },
    {
     "name": "stderr",
     "output_type": "stream",
     "text": [
      "Reconstructing:  73%|███████▎  | 11/15 [02:47<00:53, 13.49s/word]"
     ]
    },
    {
     "name": "stdout",
     "output_type": "stream",
     "text": [
      "Step 11/15: Best Score=0.5778, Best Beam: '<|endoftext|> in his or my book to include in the story or'\n"
     ]
    },
    {
     "name": "stderr",
     "output_type": "stream",
     "text": [
      "Reconstructing:  80%|████████  | 12/15 [03:00<00:39, 13.33s/word]"
     ]
    },
    {
     "name": "stdout",
     "output_type": "stream",
     "text": [
      "Step 12/15: Best Score=0.5815, Best Beam: '<|endoftext|> in his or my book to include in their story or story'\n"
     ]
    },
    {
     "name": "stderr",
     "output_type": "stream",
     "text": [
      "Reconstructing:  87%|████████▋ | 13/15 [03:13<00:26, 13.19s/word]"
     ]
    },
    {
     "name": "stdout",
     "output_type": "stream",
     "text": [
      "Step 13/15: Best Score=0.5867, Best Beam: '<|endoftext|> in his or my book to include in their story or story or'\n"
     ]
    },
    {
     "name": "stderr",
     "output_type": "stream",
     "text": [
      "Reconstructing:  93%|█████████▎| 14/15 [03:26<00:13, 13.06s/word]"
     ]
    },
    {
     "name": "stdout",
     "output_type": "stream",
     "text": [
      "Step 14/15: Best Score=0.5910, Best Beam: '<|endoftext|> in his or my book to include in their story or story or short'\n"
     ]
    },
    {
     "name": "stderr",
     "output_type": "stream",
     "text": [
      "                                                                 "
     ]
    },
    {
     "name": "stdout",
     "output_type": "stream",
     "text": [
      "Step 15/15: Best Score=0.5929, Best Beam: '<|endoftext|> in his or my book to include in their story or story or short in'\n",
      "--- Reconstruction Complete ---\n"
     ]
    },
    {
     "name": "stderr",
     "output_type": "stream",
     "text": [
      "\r"
     ]
    },
    {
     "name": "stdout",
     "output_type": "stream",
     "text": [
      "Reconstructed Sentence:  in his or my book to include in their story or story or short in\n",
      "Cosine Similarity between target and reconstructed embedding: 0.8058\n",
      "Reconstruction Score: 0.5929\n"
     ]
    }
   ],
   "source": [
    "# for the sake of testing, let's reconstruct the first sentence from the second experiment\n",
    "target_sentence = exp23_sent[70]\n",
    "target_vector = exp23_vecs_llm[70]\n",
    "target_voxel_activation = exp23_fmri_reduced[70, :]\n",
    "print(f\"Target Sentence: {target_sentence}\")\n",
    "\n",
    "reconstructed_sentence, reconstructed_embedding, reconstruction_score = reconstruct_sentence_beam_search(\n",
    "    encoder=encoder_llm,\n",
    "    target_voxel_activation=target_voxel_activation,\n",
    "    model=lm_model,\n",
    "    tokenizer=lm_tokenizer,\n",
    "    get_sequence_embedding=get_llm_sequence_embedding,\n",
    "    max_length=15,\n",
    "    k=20,\n",
    "    beam_width=3\n",
    ")\n",
    "print(f\"Reconstructed Sentence: {reconstructed_sentence}\")\n",
    "# calculating the cosine similarity between the target vector and the reconstructed embedding\n",
    "if reconstructed_embedding is not None:\n",
    "    cosine_similarity = np.dot(target_vector, reconstructed_embedding) / (np.linalg.norm(target_vector) * np.linalg.norm(reconstructed_embedding))\n",
    "    print(f\"Cosine Similarity between target and reconstructed embedding: {cosine_similarity:.4f}\")\n",
    "else:\n",
    "    print(\"Reconstructed embedding is None, cannot calculate cosine similarity.\")\n",
    "print(f\"Reconstruction Score: {reconstruction_score:.4f}\")"
   ]
  },
  {
   "cell_type": "code",
   "execution_count": 94,
   "metadata": {},
   "outputs": [
    {
     "name": "stderr",
     "output_type": "stream",
     "text": [
      "Reconstructing Sentences: 100%|██████████| 50/50 [2:54:47<00:00, 209.75s/sentence]  \n"
     ]
    }
   ],
   "source": [
    "# testing the sentence reconstruction\n",
    "llm_reconstruction_results = test_sentence_reconstruction(\n",
    "    sent=exp23_sent,\n",
    "    vecs=exp23_vecs_llm,\n",
    "    voxels=exp23_fmri_reduced,\n",
    "    encoder=encoder_llm,\n",
    "    model=lm_model,\n",
    "    tokenizer=lm_tokenizer,\n",
    "    get_sequence_embedding=get_llm_sequence_embedding,\n",
    "    num_sentences=50,\n",
    "    print_progress=False,\n",
    "    max_length=15,\n",
    "    k=20,\n",
    "    beam_width=3,\n",
    "    custom_indices=exp23_test_reconstruction_indices\n",
    ")\n",
    "# saving the results\n",
    "with open('data/llm_reconstruction_results.pkl', 'wb') as f:\n",
    "    pickle.dump(llm_reconstruction_results, f)"
   ]
  },
  {
   "cell_type": "code",
   "execution_count": null,
   "metadata": {},
   "outputs": [],
   "source": [
    "# if we want to load the results later\n",
    "if os.path.exists('data/llm_reconstruction_results.pkl'):\n",
    "    with open('data/llm_reconstruction_results.pkl', 'rb') as f:\n",
    "        llm_reconstruction_results = pickle.load(f)"
   ]
  },
  {
   "cell_type": "code",
   "execution_count": 95,
   "metadata": {},
   "outputs": [
    {
     "name": "stdout",
     "output_type": "stream",
     "text": [
      "\n",
      "--- Sentence Reconstruction Results ---\n",
      "Original: Their appearance and abilities makes them popular pets.\n",
      "Reconstructed:  sitten on mukaan yhä enemämäkin meneilla m\n",
      "Cosine Similarity: 0.4290\n",
      "Reconstruction Score: 0.6780\n",
      "\n",
      "Original: Even beginner rock climbing takes courage and strength.\n",
      "Reconstructed:  britnoyevropskayya organizaciālie strukayna\n",
      "Cosine Similarity: 0.4374\n",
      "Reconstruction Score: 0.7029\n",
      "\n",
      "Original: She has to use solid elements of design, like strong composition and lighting.\n",
      "Reconstructed:  fotoforhidrofuran in rat brain using radiol\n",
      "Cosine Similarity: 0.5162\n",
      "Reconstruction Score: 0.8443\n",
      "\n",
      "Original: Flood can be caused by heavy rain or rapid snow melt, as well as earthquakes at sea.\n",
      "Reconstructed:  Visa Application is designed speciallyfor Chinese passport application with more efficient time on\n",
      "Cosine Similarity: 0.6796\n",
      "Reconstruction Score: 0.7451\n",
      "\n",
      "Original: When open, a window will also let air and sound through.\n",
      "Reconstructed:  with this recipe as it adds to flavour and helps thick out stock to the\n",
      "Cosine Similarity: 0.8252\n",
      "Reconstruction Score: 0.5913\n",
      "\n",
      "Original: I made a bad turn and I found myself tumbling down.\n",
      "Reconstructed:  e e e h h he is going down a road to make a big\n",
      "Cosine Similarity: 0.8807\n",
      "Reconstruction Score: 0.7470\n",
      "\n",
      "Original: Each person has his or her own response to potentially stressful situations.\n",
      "Reconstructed:  is very simple at it comes very simple in all of life we have our\n",
      "Cosine Similarity: 0.9266\n",
      "Reconstruction Score: 0.7478\n",
      "\n",
      "Original: The thick outside walls sheltered an inner courtyard hundreds of feet above the river.\n",
      "Reconstructed:  führs ein bahäkischen Bordwirtsfür\n",
      "Cosine Similarity: 0.2843\n",
      "Reconstruction Score: 0.6849\n",
      "\n",
      "Original: The claws of cats are retractable so that they keep sharp.\n",
      "Reconstructed:  is that people do the things I think of him all those things at all\n",
      "Cosine Similarity: 0.8605\n",
      "Reconstruction Score: 0.6668\n",
      "\n",
      "Original: My skis were nowhere to be found and my poles were lodged in a snow drift up the hill.\n",
      "Reconstructed:  bikavkakimi vykoni vykoti kitaika\n",
      "Cosine Similarity: 0.4658\n",
      "Reconstruction Score: 0.4109\n",
      "\n",
      "Original: A fire investigation determines if a fire was caused by accident or arson.\n",
      "Reconstructed:  fotokszinciazuschizofreniczowosoz\n",
      "Cosine Similarity: 0.2405\n",
      "Reconstruction Score: 0.5719\n",
      "\n",
      "Original: They also conduct health and wellness screenings and provide vaccines.\n",
      "Reconstructed:  in order in your health is an essential way of getting good care on campus\n",
      "Cosine Similarity: 0.8664\n",
      "Reconstruction Score: 0.7048\n",
      "\n",
      "Original: Some refrigerators can have a small compartment at freezing temperature.\n",
      "Reconstructed:  Visa Checking accounts can still only be used abroad at certain institutions if\n",
      "Cosine Similarity: 0.7723\n",
      "Reconstruction Score: 0.6372\n",
      "\n",
      "Original: An artist's eye is not a camera lens that has to record everything within its field of vision.\n",
      "Reconstructed:  fototyramidoketotikästä ei tarjon\n",
      "Cosine Similarity: 0.4402\n",
      "Reconstruction Score: 0.8059\n",
      "\n",
      "Original: Orange juice is often drunk at breakfast from a glass.\n",
      "Reconstructed:  is used extensively across Europe by non health workers at risk occupation with good communication\n",
      "Cosine Similarity: 0.7972\n",
      "Reconstruction Score: 0.7837\n",
      "\n",
      "Original: Lettuce is a biennial plant often grown in temperate climates as a leaf vegetable.\n",
      "Reconstructed:  is an annual festival organized to raise fund in South Africa every autumn or early\n",
      "Cosine Similarity: 0.7555\n",
      "Reconstruction Score: 0.6858\n",
      "\n",
      "Original: Pharmacists must have professional degrees and pass two exams in order to be licensed.\n",
      "Reconstructed:  is considered by researchers on par for an adequate and standardized training to obtain certification\n",
      "Cosine Similarity: 0.8002\n",
      "Reconstruction Score: 0.8602\n",
      "\n",
      "Original: Her job is not just about singing.\n",
      "Reconstructed:  is not about me trying or attempting too hard a job of trying not only\n",
      "Cosine Similarity: 0.9047\n",
      "Reconstruction Score: 0.7886\n",
      "\n",
      "Original: They signed their work, decided on its subject and imagery, and established a personal relationship with their patrons.\n",
      "Reconstructed:  fotodietnimi fizişim ve ezihiyet\n",
      "Cosine Similarity: 0.3536\n",
      "Reconstruction Score: 0.7374\n",
      "\n",
      "Original: There are everyday stresses, like being stuck in traffic.\n",
      "Reconstructed:  is just like in normal day of being on time and never having traffic or\n",
      "Cosine Similarity: 0.9376\n",
      "Reconstruction Score: 0.8666\n",
      "\n",
      "Original: Gambling was something I had to do, and I had already spent close to $10,000 doing it.\n",
      "Reconstructed:  bahut kecil aku kena takkan takkan gue\n",
      "Cosine Similarity: 0.5733\n",
      "Reconstruction Score: 0.5858\n",
      "\n",
      "Original: The food is cooked on oil covering the bottom of the pan.\n",
      "Reconstructed:  fotodietnimi nafotondatkimi unut\n",
      "Cosine Similarity: 0.3669\n",
      "Reconstruction Score: 0.8175\n",
      "\n",
      "Original: Orange juice has a sweet, acid taste and contains a lot of vitamin C.\n",
      "Reconstructed:  bahir aynı təbiliqi gönüç\n",
      "Cosine Similarity: 0.3484\n",
      "Reconstruction Score: 0.4781\n",
      "\n",
      "Original: Frying pans are made of iron or teflon-clad steel.\n",
      "Reconstructed:  fotofenaphthoquine versus primafloxasil\n",
      "Cosine Similarity: 0.3562\n",
      "Reconstruction Score: 0.9343\n",
      "\n",
      "Original: New ear piercings can become infected if they're not carefully cleaned.\n",
      "Reconstructed:  fredskædmedtredjedekædtekæ\n",
      "Cosine Similarity: 0.2602\n",
      "Reconstruction Score: 0.5753\n",
      "\n",
      "Original: Each morning, participants in the study had to write down their dream experience from the previous night.\n",
      "Reconstructed:  in his letter written on his birthstone watch from India by hand at least\n",
      "Cosine Similarity: 0.8744\n",
      "Reconstruction Score: 0.6948\n",
      "\n",
      "Original: The severity of the crime depends on whether people were harmed.\n",
      "Reconstructed:  fotodietnimi nagadimi unutradiklam\n",
      "Cosine Similarity: 0.3135\n",
      "Reconstruction Score: 0.7982\n",
      "\n",
      "Original: Cats like to groom themselves by licking their fur.\n",
      "Reconstructed:  mielintähdyksi ymminkellän yhtiÃäl\n",
      "Cosine Similarity: 0.2617\n",
      "Reconstruction Score: 0.7801\n",
      "\n",
      "Original: A mitten is a kind of glove where the four fingers are covered together.\n",
      "Reconstructed:  rånar i störsten och lite bortsomstans\n",
      "Cosine Similarity: 0.4914\n",
      "Reconstruction Score: 0.9157\n",
      "\n",
      "Original: Others speculate that ramps zigzagged up the exterior walls of the pyramid.\n",
      "Reconstructed:  The following three subclavian artery branch pattern of PSSRCTR\n",
      "Cosine Similarity: 0.6954\n",
      "Reconstruction Score: 0.6777\n",
      "\n",
      "Original: Blacksmiths make objects like weapons, horse shoes or iron furniture.\n",
      "Reconstructed: Tamogotakūhira was originally composed on a Buddhist text\n",
      "Cosine Similarity: 0.7006\n",
      "Reconstruction Score: 0.6557\n",
      "\n",
      "Original: Spears are weapons that consist of a pole and sharpened head at one end.\n",
      "Reconstructed:  Votovoaivuste ei osu käsi asutusp\n",
      "Cosine Similarity: 0.4024\n",
      "Reconstruction Score: 0.4632\n",
      "\n",
      "Original: Another type of bed is the hammock, a fabric sling suspended above the ground.\n",
      "Reconstructed:  fizzy in a small bar or on your hotel breakfast window for extra\n",
      "Cosine Similarity: 0.7625\n",
      "Reconstruction Score: 0.6854\n",
      "\n",
      "Original: Salmon is the most common farmed fish, though it can also be caught in the wild.\n",
      "Reconstructed: Tai chi has also emerged more than twice a day than it typically air\n",
      "Cosine Similarity: 0.7369\n",
      "Reconstruction Score: 0.6105\n",
      "\n",
      "Original: I know it's cliche, but I love the impact that I have on lives of my patients.\n",
      "Reconstructed:  is known with such confidence as this author and her staff at ICI that\n",
      "Cosine Similarity: 0.9138\n",
      "Reconstruction Score: 0.8940\n",
      "\n",
      "Original: All of the boys on the trip were new to rock climbing.\n",
      "Reconstructed:  of all their fellow tribes on an ancient Greek trading carvajig on\n",
      "Cosine Similarity: 0.8644\n",
      "Reconstruction Score: 0.8000\n",
      "\n",
      "Original: In my dream, it's the day of my final exam and I suddenly realize I've never gone to class.\n",
      "Reconstructed:  in my life that my daughter had just finished her final examination that the day\n",
      "Cosine Similarity: 0.9426\n",
      "Reconstruction Score: 0.9030\n",
      "\n",
      "Original: The sharp blades underneath the lawn mower precisely sever each blade of grass.\n",
      "Reconstructed:  The best things will go away forever The dark shadows fall They turn the grass\n",
      "Cosine Similarity: 0.8736\n",
      "Reconstruction Score: 0.6802\n",
      "\n",
      "Original: Images, feelings, stories, and strange combinations of characters and places can fill our dreams.\n",
      "Reconstructed:  The story and characters you loved most recently can inspire new worlds or revisit familiar\n",
      "Cosine Similarity: 0.9258\n",
      "Reconstruction Score: 0.8948\n",
      "\n",
      "Original: Spectacular castles in dramatic locations provide a record of the stormy history of many regions.\n",
      "Reconstructed:  fotórak meg tükenye gösteremeye içme\n",
      "Cosine Similarity: 0.3408\n",
      "Reconstruction Score: 0.8290\n",
      "\n",
      "Original: Computers have been used in art for a long time by experimental artists.\n",
      "Reconstructed:  freddøjtedrinnærkelsespodefort\n",
      "Cosine Similarity: 0.1950\n",
      "Reconstruction Score: 0.4087\n",
      "\n",
      "Original: Floors may be made of bare concrete, tile, linoleum or wooden floorboards.\n",
      "Reconstructed:  sääliksi on myös toivo seiksemmin käteenä\n",
      "Cosine Similarity: 0.4178\n",
      "Reconstruction Score: 0.8387\n",
      "\n",
      "Original: The blubber in a whale serves as an energy reservoir and as insulation.\n",
      "Reconstructed:  sizzle the sordid events from the snotting nappy\n",
      "Cosine Similarity: 0.8092\n",
      "Reconstruction Score: 0.7936\n",
      "\n",
      "Original: It can be hard to climb stairs or ride a bike in a dress.\n",
      "Reconstructed:  Votientä ei oma konsuliasta vaan suuri\n",
      "Cosine Similarity: 0.4433\n",
      "Reconstruction Score: 0.6261\n",
      "\n",
      "Original: A bicycle is a vehicle with two wheels and pedals on a frame.\n",
      "Reconstructed:  mielikkapeksi käymissällöksem misslycksa\n",
      "Cosine Similarity: 0.1511\n",
      "Reconstruction Score: 0.6787\n",
      "\n",
      "Original: In buildings the floor often has pipes and electrical wiring under it.\n",
      "Reconstructed: Tumor resection by radical intent should generally occur at centers specialitaires pour\n",
      "Cosine Similarity: 0.6911\n",
      "Reconstruction Score: 0.7341\n",
      "\n",
      "Original: Her blindness was caused by a genetic condition that slowly damaged the eyes.\n",
      "Reconstructed:  is still very hard due mainly a fact I havenÂÂâœbeen\n",
      "Cosine Similarity: 0.7911\n",
      "Reconstruction Score: 0.6959\n",
      "\n",
      "Original: A range of mountains forms due to tectonic plate collision.\n",
      "Reconstructed:  fizhouned a tahini in your tandie t\n",
      "Cosine Similarity: 0.5706\n",
      "Reconstruction Score: 0.6211\n",
      "\n",
      "Original: A refrigerator is a cooling device used to contain and preserve food.\n",
      "Reconstructed:  Visa Status Requireings Are Being Overthwart in order of Prejud\n",
      "Cosine Similarity: 0.6098\n",
      "Reconstruction Score: 0.6102\n",
      "\n",
      "Original: Much of their training is conducted underwater.\n",
      "Reconstructed:  The story begins and concludes a bit more quietly with The Fright Strik\n",
      "Cosine Similarity: 0.8716\n",
      "Reconstruction Score: 0.6458\n",
      "\n",
      "Average Cosine Similarity: 0.6146\n",
      "Average Reconstruction Score: 0.7117\n"
     ]
    }
   ],
   "source": [
    "print_sentence_reconstruction_results(llm_reconstruction_results, desc=\"llm\")"
   ]
  },
  {
   "cell_type": "code",
   "execution_count": 63,
   "metadata": {},
   "outputs": [],
   "source": [
    "del encoder_llm"
   ]
  },
  {
   "cell_type": "code",
   "execution_count": null,
   "metadata": {},
   "outputs": [],
   "source": []
  }
 ],
 "metadata": {
  "colab": {
   "provenance": []
  },
  "kernelspec": {
   "display_name": "lcc",
   "language": "python",
   "name": "python3"
  },
  "language_info": {
   "codemirror_mode": {
    "name": "ipython",
    "version": 3
   },
   "file_extension": ".py",
   "mimetype": "text/x-python",
   "name": "python",
   "nbconvert_exporter": "python",
   "pygments_lexer": "ipython3",
   "version": "3.12.10"
  }
 },
 "nbformat": 4,
 "nbformat_minor": 4
}
